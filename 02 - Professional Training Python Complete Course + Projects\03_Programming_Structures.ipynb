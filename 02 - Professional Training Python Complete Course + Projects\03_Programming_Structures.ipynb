{
  "nbformat": 4,
  "nbformat_minor": 0,
  "metadata": {
    "colab": {
      "provenance": [],
      "toc_visible": true,
      "authorship_tag": "ABX9TyOKFE2OqqGl5kX/qPnifz86",
      "include_colab_link": true
    },
    "kernelspec": {
      "name": "python3",
      "display_name": "Python 3"
    },
    "language_info": {
      "name": "python"
    }
  },
  "cells": [
    {
      "cell_type": "markdown",
      "metadata": {
        "id": "view-in-github",
        "colab_type": "text"
      },
      "source": [
        "<a href=\"https://colab.research.google.com/github/lincolntneves/course-eia-data-science-track/blob/main/02%20-%20Professional%20Training%20Python%20Complete%20Course%20%2B%20Projects%5C03_Programming_Structures.ipynb\" target=\"_parent\"><img src=\"https://colab.research.google.com/assets/colab-badge.svg\" alt=\"Open In Colab\"/></a>"
      ]
    },
    {
      "cell_type": "markdown",
      "source": [
        "# IF Structure"
      ],
      "metadata": {
        "id": "bnzbpsJcMpwZ"
      }
    },
    {
      "cell_type": "code",
      "source": [
        "var = 1\n",
        "if var == 1:\n",
        "  print(\"The variable is 1\")"
      ],
      "metadata": {
        "id": "lPRsY5JvA_nq",
        "colab": {
          "base_uri": "https://localhost:8080/"
        },
        "outputId": "4dd810ca-c81e-404f-d943-a4ca83a4698c"
      },
      "execution_count": 1,
      "outputs": [
        {
          "output_type": "stream",
          "name": "stdout",
          "text": [
            "The variable is 1\n"
          ]
        }
      ]
    },
    {
      "cell_type": "code",
      "source": [
        "print(\"Enter an int number: \")\n",
        "var = int(input())\n",
        "if var == 1:\n",
        "  print(\"The variable is 1\")\n",
        "else:\n",
        "  print(\"The variable is not 1\")"
      ],
      "metadata": {
        "colab": {
          "base_uri": "https://localhost:8080/"
        },
        "id": "7bDo0pTcMqX-",
        "outputId": "1523b59e-0cad-4041-80e9-2515f5355ff4"
      },
      "execution_count": 3,
      "outputs": [
        {
          "output_type": "stream",
          "name": "stdout",
          "text": [
            "Enter an int number: \n",
            "1\n",
            "The variable is 1\n"
          ]
        }
      ]
    },
    {
      "cell_type": "code",
      "source": [
        "print(\"Enter an int number: \")\n",
        "var = int(input())\n",
        "if var == 1:\n",
        "  print(\"The variable is 1\")\n",
        "elif var == 2:\n",
        "  print(\"The variable is 2\")\n",
        "elif var == 3:\n",
        "  print(\"The variable is 3\")\n",
        "else:\n",
        "  print(\"I don't recognize that number\")"
      ],
      "metadata": {
        "colab": {
          "base_uri": "https://localhost:8080/"
        },
        "id": "wOPiKLedNwFL",
        "outputId": "bcda992b-a6f2-4a12-925f-c2751c1774f1"
      },
      "execution_count": 7,
      "outputs": [
        {
          "output_type": "stream",
          "name": "stdout",
          "text": [
            "Enter an int number: \n",
            "6\n",
            "I don't recognize that number\n"
          ]
        }
      ]
    },
    {
      "cell_type": "markdown",
      "source": [
        "**Working with IF in one line**"
      ],
      "metadata": {
        "id": "iarVI847OTeS"
      }
    },
    {
      "cell_type": "code",
      "source": [
        "var = 2\n",
        "result = \"Var is greater than 2\" if var > 2 else \"Var is not greater than 2\"\n",
        "print(result)"
      ],
      "metadata": {
        "colab": {
          "base_uri": "https://localhost:8080/"
        },
        "id": "3hRoqKLFOk0E",
        "outputId": "3ca71087-3c14-4f6f-d41e-db6c319a9e2c"
      },
      "execution_count": 8,
      "outputs": [
        {
          "output_type": "stream",
          "name": "stdout",
          "text": [
            "Var is not greater than 2\n"
          ]
        }
      ]
    },
    {
      "cell_type": "code",
      "source": [
        "print(\"Enter an int number:\")\n",
        "var = int(input())\n",
        "result = \"Var is greater than 2\" if var > 2 else \"Var is not greater than 2\"\n",
        "print(result)"
      ],
      "metadata": {
        "colab": {
          "base_uri": "https://localhost:8080/"
        },
        "id": "8jfvE2QmO9lr",
        "outputId": "a7ec9f16-6866-4b26-9801-1c4f3f60057e"
      },
      "execution_count": 13,
      "outputs": [
        {
          "output_type": "stream",
          "name": "stdout",
          "text": [
            "Enter an int number:\n",
            "4\n",
            "Var is greater than 2\n"
          ]
        }
      ]
    },
    {
      "cell_type": "markdown",
      "source": [
        "## IF Structure: Activities"
      ],
      "metadata": {
        "id": "eL0tijRvPZHB"
      }
    },
    {
      "cell_type": "markdown",
      "source": [
        "**Activity 01**"
      ],
      "metadata": {
        "id": "SKAEmp6CPq2Z"
      }
    },
    {
      "cell_type": "code",
      "source": [
        "print(\"Enter your balance: \")\n",
        "revenue = float(input())\n",
        "print(\"Enter your debt: \")\n",
        "debt = float(input())\n",
        "\n",
        "balance = revenue - debt\n",
        "\n",
        "if balance < 0:\n",
        "  print(\"You have a \\'negative'\\ balance\")\n",
        "else:\n",
        "  print(\"you have a \\'positive\\' balance\")"
      ],
      "metadata": {
        "colab": {
          "base_uri": "https://localhost:8080/"
        },
        "id": "6m8M5n6TPuF9",
        "outputId": "e09b07ad-9acd-4ae2-847c-8c18e4ddf852"
      },
      "execution_count": 15,
      "outputs": [
        {
          "output_type": "stream",
          "name": "stdout",
          "text": [
            "Enter your balance: \n",
            "2400\n",
            "Enter your debt: \n",
            "1500\n",
            "you have a 'positive' balance\n"
          ]
        }
      ]
    },
    {
      "cell_type": "markdown",
      "source": [
        "**Activity 02**"
      ],
      "metadata": {
        "id": "f6yt5fBmQpCR"
      }
    },
    {
      "cell_type": "code",
      "source": [
        "code = '105.066.227-03'\n",
        "password = '123654'\n",
        "\n",
        "while passw != '123654':\n",
        "  print(\"Enter the password to see the code: \")\n",
        "  passw = str(input())\n",
        "  if passw == '123654':\n",
        "    print(\"The code is: \", code)\n",
        "  else:\n",
        "    print(\"Incorrect code!!\")\n",
        "    print(\"Try again.\")\n"
      ],
      "metadata": {
        "colab": {
          "base_uri": "https://localhost:8080/"
        },
        "id": "Izj28FaiQr73",
        "outputId": "188d7791-f406-4731-c04c-651bfe47c4f2"
      },
      "execution_count": 18,
      "outputs": [
        {
          "output_type": "stream",
          "name": "stdout",
          "text": [
            "Enter the password to see the code: \n",
            "123\n",
            "Incorrect code!!\n",
            "Try again.\n",
            "Enter the password to see the code: \n",
            "125\n",
            "Incorrect code!!\n",
            "Try again.\n",
            "Enter the password to see the code: \n",
            "123654\n",
            "The code is:  105.066.227-03\n"
          ]
        }
      ]
    },
    {
      "cell_type": "markdown",
      "source": [
        "**Activity 03**"
      ],
      "metadata": {
        "id": "zgpoAFDyT55r"
      }
    },
    {
      "cell_type": "code",
      "source": [
        "print(\"Enter your age: \")\n",
        "age = int(input())\n",
        "\n",
        "if age <= 3:\n",
        "  print(\"You are a baby\")\n",
        "elif age <= 13:\n",
        "  print(\"You are a child\")\n",
        "elif age <= 18:\n",
        "  print(\"You are a teenager\")\n",
        "elif age <= 65:\n",
        "  print(\"You are an adult\")\n",
        "else:\n",
        "  print(\"You are an elderly person\")"
      ],
      "metadata": {
        "colab": {
          "base_uri": "https://localhost:8080/"
        },
        "id": "xsFbHONQT8GM",
        "outputId": "8d59fecc-eea6-4b3d-fa0d-e64deb3626ad"
      },
      "execution_count": 23,
      "outputs": [
        {
          "output_type": "stream",
          "name": "stdout",
          "text": [
            "Enter your age: \n",
            "78\n",
            "You are an elderly person\n"
          ]
        }
      ]
    },
    {
      "cell_type": "markdown",
      "source": [
        "**Activity 04**"
      ],
      "metadata": {
        "id": "BV0c3_neU-Gw"
      }
    },
    {
      "cell_type": "code",
      "source": [
        "print(\"Enter the first number: \")\n",
        "num1 = float(input())\n",
        "\n",
        "print(\"Enter the second number:\")\n",
        "num2 = float(input())\n",
        "\n",
        "print(\"Enter the operation:\")\n",
        "print(\"1 for Addition\")\n",
        "print(\"2 for Subtraction\")\n",
        "print(\"3 for Multiplication\")\n",
        "print(\"4 for Division\")\n",
        "op = int(input())\n",
        "\n",
        "if op == 1:\n",
        "  print(\"The addition for %.2f and %.2f is: %.2f\" %(num1, num2, (num1+num2)))\n",
        "elif op == 2:\n",
        "  print(\"The subtraction for %.2f and %.2f is: %.2f\" %(num1, num2, (num1-num2)))\n",
        "elif op == 3:\n",
        "  print(\"The Multiplication for %.2f and %.2f is: %.2f\" %(num1, num2, (num1*num2)))\n",
        "elif op == 4:\n",
        "  print(\"The Division for %.2f and %.2f is: %.2f\" %(num1, num2, (num1/num2)))"
      ],
      "metadata": {
        "colab": {
          "base_uri": "https://localhost:8080/"
        },
        "id": "XfYpzXhsVA5w",
        "outputId": "204c4bd9-a0b0-45b1-bf28-dd85b4290e39"
      },
      "execution_count": 25,
      "outputs": [
        {
          "output_type": "stream",
          "name": "stdout",
          "text": [
            "Enter the first number: \n",
            "15\n",
            "Enter the second number:\n",
            "21\n",
            "Enter the operation:\n",
            "1 for Addition\n",
            "2 for Subtraction\n",
            "3 for Multiplication\n",
            "4 for Division\n",
            "3\n",
            "The Multiplication for 15.00 and 21.00 is: 315.00\n"
          ]
        }
      ]
    }
  ]
}