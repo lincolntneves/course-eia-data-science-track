{
  "nbformat": 4,
  "nbformat_minor": 0,
  "metadata": {
    "colab": {
      "provenance": [],
      "toc_visible": true,
      "authorship_tag": "ABX9TyOYNv6rFK+WLU/2lfkg+h+b",
      "include_colab_link": true
    },
    "kernelspec": {
      "name": "python3",
      "display_name": "Python 3"
    },
    "language_info": {
      "name": "python"
    }
  },
  "cells": [
    {
      "cell_type": "markdown",
      "metadata": {
        "id": "view-in-github",
        "colab_type": "text"
      },
      "source": [
        "<a href=\"https://colab.research.google.com/github/lincolntneves/course-eia-data-science-track/blob/main/02%20-%20Professional%20Training%20Python%20Complete%20Course%20%2B%20Projects/02_Fundamentos.ipynb\" target=\"_parent\"><img src=\"https://colab.research.google.com/assets/colab-badge.svg\" alt=\"Open In Colab\"/></a>"
      ]
    },
    {
      "cell_type": "markdown",
      "source": [
        "## Método Print: Atividades"
      ],
      "metadata": {
        "id": "kX43AGiSYZ1f"
      }
    },
    {
      "cell_type": "markdown",
      "source": [
        "**Atividade 01**"
      ],
      "metadata": {
        "id": "GSocOspkU-U5"
      }
    },
    {
      "cell_type": "code",
      "source": [
        "print(\"Lincoln\")\n",
        "print(\"40\")\n",
        "print(\"1.78\")"
      ],
      "metadata": {
        "colab": {
          "base_uri": "https://localhost:8080/"
        },
        "id": "cdJpB_inUAtA",
        "outputId": "0b37cb6e-506b-4e95-b17a-ce8ba1b7b597"
      },
      "execution_count": null,
      "outputs": [
        {
          "output_type": "stream",
          "name": "stdout",
          "text": [
            "Lincoln\n",
            "40\n",
            "1.78\n"
          ]
        }
      ]
    },
    {
      "cell_type": "markdown",
      "source": [
        "**Atividade 02**"
      ],
      "metadata": {
        "id": "jImqivgWVHIT"
      }
    },
    {
      "cell_type": "code",
      "execution_count": null,
      "metadata": {
        "colab": {
          "base_uri": "https://localhost:8080/"
        },
        "id": "E25jhaFwf0co",
        "outputId": "c8bb7031-d2fc-4680-daf9-faa13ded8bc2"
      },
      "outputs": [
        {
          "output_type": "stream",
          "name": "stdout",
          "text": [
            "Nome: Lincoln \n",
            "Idade: 40 \n",
            "Altura: 1,78\n"
          ]
        }
      ],
      "source": [
        "print(\"Nome: {} \\nIdade: {} \\nAltura: {}\".format(\"Lincoln\",\"40\",\"1,78\"))"
      ]
    },
    {
      "cell_type": "markdown",
      "source": [
        "**Atividade 03**"
      ],
      "metadata": {
        "id": "LI9p_cnqVKj8"
      }
    },
    {
      "cell_type": "code",
      "source": [
        "print(\"30\",\"31\",\"32\", sep=\"-\")"
      ],
      "metadata": {
        "colab": {
          "base_uri": "https://localhost:8080/"
        },
        "id": "zXMUkfgSUcn8",
        "outputId": "740adac9-7784-4994-f749-165cd048b292"
      },
      "execution_count": null,
      "outputs": [
        {
          "output_type": "stream",
          "name": "stdout",
          "text": [
            "30-31-32\n"
          ]
        }
      ]
    },
    {
      "cell_type": "markdown",
      "source": [
        "# Principais Variáveis"
      ],
      "metadata": {
        "id": "4ETny7j0fwz7"
      }
    },
    {
      "cell_type": "code",
      "source": [
        "# padrão camel case\n",
        "saldoBancario = 100\n",
        "\n",
        "# padrão pascal case\n",
        "SaldoBancario = 100\n",
        "\n",
        "# padrão snake case\n",
        "saldo_bancario = 100"
      ],
      "metadata": {
        "id": "wRjZlCFnfxZN"
      },
      "execution_count": null,
      "outputs": []
    },
    {
      "cell_type": "markdown",
      "source": [
        "## Principais Variáveis: Atividades"
      ],
      "metadata": {
        "id": "fJroKbBQgaZ8"
      }
    },
    {
      "cell_type": "markdown",
      "source": [
        "**Atividade 01**"
      ],
      "metadata": {
        "id": "rxnG8Mp9i168"
      }
    },
    {
      "cell_type": "code",
      "source": [
        "saldoConta = 1000.34\n",
        "resposta = True\n",
        "peso = 78\n",
        "cadeira = None\n",
        "\n",
        "print(saldoConta)\n",
        "print(resposta)\n",
        "print(peso)\n",
        "print(cadeira)"
      ],
      "metadata": {
        "colab": {
          "base_uri": "https://localhost:8080/"
        },
        "id": "jt9DMsMMgbGf",
        "outputId": "85084e4c-e289-4c89-a88c-5de37c561250"
      },
      "execution_count": null,
      "outputs": [
        {
          "output_type": "stream",
          "name": "stdout",
          "text": [
            "1000.34\n",
            "True\n",
            "78\n",
            "None\n"
          ]
        }
      ]
    },
    {
      "cell_type": "markdown",
      "source": [
        "**Atividade 02**"
      ],
      "metadata": {
        "id": "UE_kPiU1i8rD"
      }
    },
    {
      "cell_type": "code",
      "source": [
        "nome = \"Lincoln\"\n",
        "cpf = \"10533455601\"\n",
        "casado = True\n",
        "\n",
        "print(\"Nome: {}, CPF: {}, Casado: {}\".format(nome,cpf,casado))"
      ],
      "metadata": {
        "colab": {
          "base_uri": "https://localhost:8080/"
        },
        "id": "MMtImT3qgf_D",
        "outputId": "354eb9b2-2ce2-4f21-c115-909b491f3ad1"
      },
      "execution_count": null,
      "outputs": [
        {
          "output_type": "stream",
          "name": "stdout",
          "text": [
            "Nome: Lincoln, CPF: 10533455601, Casado: True\n"
          ]
        }
      ]
    },
    {
      "cell_type": "code",
      "source": [
        "nome = \"Lincoln\"\n",
        "cpf = \"10533455601\"\n",
        "casado = True\n",
        "\n",
        "print(\"Nome: \", nome)\n",
        "print(\"CPF: \", cpf)\n",
        "print(\"Casado: \", casado)\n"
      ],
      "metadata": {
        "colab": {
          "base_uri": "https://localhost:8080/"
        },
        "id": "50-x7mAomcdv",
        "outputId": "e238211a-ee0a-4ce4-d237-d539cf7b3ad4"
      },
      "execution_count": null,
      "outputs": [
        {
          "output_type": "stream",
          "name": "stdout",
          "text": [
            "Nome:  Lincoln\n",
            "CPF:  10533455601\n",
            "Casado:  True\n"
          ]
        }
      ]
    },
    {
      "cell_type": "code",
      "source": [
        "nome = \"Lincoln\"\n",
        "cpf = \"10533455601\"\n",
        "casado = True\n",
        "\n",
        "print(\"Nome: {} \\nCPF: {} \\nCasado: {}\".format(nome,cpf,casado))"
      ],
      "metadata": {
        "colab": {
          "base_uri": "https://localhost:8080/"
        },
        "id": "eDVM7msamrHV",
        "outputId": "9df0bd90-d6c4-4dbc-e18c-132a1060015f"
      },
      "execution_count": null,
      "outputs": [
        {
          "output_type": "stream",
          "name": "stdout",
          "text": [
            "Nome: Lincoln \n",
            "CPF: 10533455601 \n",
            "Casado: True\n"
          ]
        }
      ]
    },
    {
      "cell_type": "markdown",
      "source": [
        "# Formatação"
      ],
      "metadata": {
        "id": "rYUmnaSdtTEa"
      }
    },
    {
      "cell_type": "markdown",
      "source": [
        "## Técnicas de Formatação de Texto"
      ],
      "metadata": {
        "id": "Ek-TlN-RtXxx"
      }
    },
    {
      "cell_type": "code",
      "source": [
        "# %s String\n",
        "# %d Número Inteiro\n",
        "# %f Número Real (Ponto Flutuante)\n",
        "\n",
        "nome = \"Lincoln\"\n",
        "idade = 40\n",
        "altura = 1.78\n",
        "\n",
        "print(\"O nome escolhido é: %s\" %(nome))\n",
        "print(\"Minha idade é: %d\" %(idade))\n",
        "print(\"Minha altura é %f\" %(altura))\n",
        "\n",
        "print(\"Minha altura é %.2f\" %(altura))\n",
        "\n",
        "\n",
        "print(\"Meu nome é %s, minha idade é %d e minha altura é %.2f\" %(nome, idade, altura))\n"
      ],
      "metadata": {
        "colab": {
          "base_uri": "https://localhost:8080/"
        },
        "id": "78B4D94BtakQ",
        "outputId": "82a951b1-7fb3-4699-d60b-6218309a0102"
      },
      "execution_count": null,
      "outputs": [
        {
          "output_type": "stream",
          "name": "stdout",
          "text": [
            "O nome escolhido é: Lincoln\n",
            "Minha idade é: 40\n",
            "Minha altura é 1.780000\n",
            "Minha altura é 1.78\n",
            "Meu nome é Lincoln, minha idade é 40 e minha altura é 1.78\n"
          ]
        }
      ]
    },
    {
      "cell_type": "markdown",
      "source": [
        "## Formatação com Caracteres Especiais"
      ],
      "metadata": {
        "id": "ejTfEkTL5Vei"
      }
    },
    {
      "cell_type": "code",
      "source": [
        "# \\n Quebra de Linha\n",
        "# \\t Tabulação\n",
        "print(\"Nome: \\nLincoln\")\n",
        "print(\"Nome: \\tLincoln\")\n",
        "print(\"Nomes: \\n\\tLincoln \\n\\tThiago\")"
      ],
      "metadata": {
        "colab": {
          "base_uri": "https://localhost:8080/"
        },
        "id": "suR7RmXo5WvJ",
        "outputId": "98c19810-dbea-4979-9d9c-c063025de69f"
      },
      "execution_count": null,
      "outputs": [
        {
          "output_type": "stream",
          "name": "stdout",
          "text": [
            "Nome: \n",
            "Lincoln\n",
            "Nome: \tLincoln\n",
            "Nomes: \n",
            "\tLincoln \n",
            "\tThiago\n"
          ]
        }
      ]
    },
    {
      "cell_type": "code",
      "source": [
        "# \\'palavra\\' Áspas simples\n",
        "# \\\"palavra\\\" Áspas dupla\n",
        "\n",
        "print(\"Meu nome é \\'Lincoln\\'\")\n",
        "print(\"Meu nome é \\\"Lincoln\\\"\")"
      ],
      "metadata": {
        "colab": {
          "base_uri": "https://localhost:8080/"
        },
        "id": "fNcYwdyl6StJ",
        "outputId": "3f4e55b4-8c01-46ad-8ebc-764cf0895282"
      },
      "execution_count": null,
      "outputs": [
        {
          "output_type": "stream",
          "name": "stdout",
          "text": [
            "Meu nome é 'Lincoln'\n",
            "Meu nome é \"Lincoln\"\n"
          ]
        }
      ]
    },
    {
      "cell_type": "markdown",
      "source": [
        "## Formatação: Atividades"
      ],
      "metadata": {
        "id": "son9jv2D7cxT"
      }
    },
    {
      "cell_type": "markdown",
      "source": [
        "**Atividade 01**"
      ],
      "metadata": {
        "id": "UrW-1-4w9pt1"
      }
    },
    {
      "cell_type": "code",
      "source": [
        "dia = 31\n",
        "mes = \"Maio\"\n",
        "ano = 1984\n",
        "\n",
        "print(\"Eu nasci no dia %d de %s de %d.\" %(dia, mes, ano))"
      ],
      "metadata": {
        "colab": {
          "base_uri": "https://localhost:8080/"
        },
        "id": "6riaP3pe7k7o",
        "outputId": "a8bf5608-5b42-4cfc-a6e6-008919c1dfe7"
      },
      "execution_count": null,
      "outputs": [
        {
          "output_type": "stream",
          "name": "stdout",
          "text": [
            "Eu nasci no dia 31 de Maio de 1984.\n"
          ]
        }
      ]
    },
    {
      "cell_type": "code",
      "source": [
        "dia, mes, ano = 31, 5, 1984\n",
        "print(\"Eu nasci em %d/%d/%d.\" %(dia, mes, ano))"
      ],
      "metadata": {
        "colab": {
          "base_uri": "https://localhost:8080/"
        },
        "id": "SykqPVJD-C9w",
        "outputId": "85e2049c-6e05-4bee-c985-e7869f76dff9"
      },
      "execution_count": null,
      "outputs": [
        {
          "output_type": "stream",
          "name": "stdout",
          "text": [
            "Eu nasci em 31/5/1984.\n"
          ]
        }
      ]
    },
    {
      "cell_type": "markdown",
      "source": [
        "**Atividade 02**"
      ],
      "metadata": {
        "id": "bY9wLGHv-HNi"
      }
    },
    {
      "cell_type": "code",
      "source": [
        "import time\n",
        "\n",
        "hora = time.localtime().tm_hour\n",
        "minuto = time.localtime().tm_min\n",
        "\n",
        "print(\"Agora são %d horas e %d minutos.\" %(hora, minuto))\n"
      ],
      "metadata": {
        "colab": {
          "base_uri": "https://localhost:8080/"
        },
        "id": "Kzr17JFu-HxR",
        "outputId": "fd35b48d-376f-4bd3-9fd8-0775f0c416a7"
      },
      "execution_count": null,
      "outputs": [
        {
          "output_type": "stream",
          "name": "stdout",
          "text": [
            "Agora são 15 horas e 50 minutos.\n"
          ]
        }
      ]
    },
    {
      "cell_type": "markdown",
      "source": [
        "**Atividade 03**"
      ],
      "metadata": {
        "id": "Skoji4Ch3-qX"
      }
    },
    {
      "cell_type": "code",
      "source": [
        "import numpy as np\n",
        "\n",
        "print(\"O número Pi é %.5f\" %(np.pi))"
      ],
      "metadata": {
        "colab": {
          "base_uri": "https://localhost:8080/"
        },
        "id": "gC8L2eYc4Bys",
        "outputId": "acf90d3d-eca4-4b0a-b861-3cad260a46e8"
      },
      "execution_count": null,
      "outputs": [
        {
          "output_type": "stream",
          "name": "stdout",
          "text": [
            "O número Pi é 3.14159\n"
          ]
        }
      ]
    },
    {
      "cell_type": "markdown",
      "source": [
        "# Operadores Aritméticos"
      ],
      "metadata": {
        "id": "MZiNNI3D_ku2"
      }
    },
    {
      "cell_type": "markdown",
      "source": [
        "## Operadores mais utilizados"
      ],
      "metadata": {
        "id": "rJLiXnJAH1yZ"
      }
    },
    {
      "cell_type": "code",
      "source": [
        "print(10 + 12) # soma\n",
        "print(10 - 12) # subtração\n",
        "print(10 * 12) # multiplicação\n",
        "print(10 / 12) # divisão\n",
        "print(\"%.2f\" %(10 / 12)) # divisão\n",
        "\n",
        "print(15 / 7)\n",
        "print(15 // 7) # Apenas o número inteiro da divisão\n",
        "\n",
        "print(2 ** 3) # Potência\n",
        "\n",
        "print(11 % 3) # Resto da divisão\n",
        "\n",
        "# Também posso trabalhar com variáveis\n",
        "a = 2 ** 4\n",
        "print(a)"
      ],
      "metadata": {
        "colab": {
          "base_uri": "https://localhost:8080/"
        },
        "id": "__GRZksc_n9T",
        "outputId": "a33a425b-9565-4a54-e8c2-755ad28edf7e"
      },
      "execution_count": null,
      "outputs": [
        {
          "output_type": "stream",
          "name": "stdout",
          "text": [
            "22\n",
            "-2\n",
            "120\n",
            "0.8333333333333334\n",
            "0.83\n",
            "2.142857142857143\n",
            "2\n",
            "8\n",
            "2\n",
            "16\n"
          ]
        }
      ]
    },
    {
      "cell_type": "markdown",
      "source": [
        "## Ordem de prioridade"
      ],
      "metadata": {
        "id": "BW3oHRuGH8zr"
      }
    },
    {
      "cell_type": "code",
      "source": [
        "## ---------- Hierarquia ---------- ##\n",
        "# 1. ** Exponenciação\n",
        "# 2. * Multiplicação\n",
        "# 3. / Divisão\n",
        "# 4. % Resto da divisão ou mod\n",
        "# 5. // Divisão inteira"
      ],
      "metadata": {
        "id": "u-DxWJAwR59V"
      },
      "execution_count": null,
      "outputs": []
    },
    {
      "cell_type": "code",
      "source": [
        "a = 10 * 3 + 2 # Multiplicação e Divisão antes da soma e subtração\n",
        "b = 10 * (3 + 2) # Mudo a hierarquia utilizando ().\n",
        "\n",
        "print(\"O valor de a é %d\" %(a))\n",
        "print(\"O valor de b é %d\" %(b))"
      ],
      "metadata": {
        "colab": {
          "base_uri": "https://localhost:8080/"
        },
        "id": "ydUurGK0H-xQ",
        "outputId": "ee599376-9ffc-471e-e87e-e529ec621948"
      },
      "execution_count": null,
      "outputs": [
        {
          "output_type": "stream",
          "name": "stdout",
          "text": [
            "O valor de a é 32\n",
            "O valor de b é 50\n"
          ]
        }
      ]
    },
    {
      "cell_type": "code",
      "source": [
        "a = 10 * 3 / 2 + 2 # Multiplicação e Divisão antes da soma e subtração\n",
        "b = 10 * (3 / 2 + 2) # Mudo a hierarquia utilizando ().\n",
        "\n",
        "print(\"O valor de a é %d\" %(a))\n",
        "print(\"O valor de b é %d\" %(b))"
      ],
      "metadata": {
        "colab": {
          "base_uri": "https://localhost:8080/"
        },
        "id": "Id3Y3B9xQ5qN",
        "outputId": "1df0b04c-dcdb-4f1e-8cdb-b84b20e52d6b"
      },
      "execution_count": null,
      "outputs": [
        {
          "output_type": "stream",
          "name": "stdout",
          "text": [
            "O valor de a é 17\n",
            "O valor de b é 35\n"
          ]
        }
      ]
    },
    {
      "cell_type": "code",
      "source": [
        "a = 100\n",
        "b = 130\n",
        "c = 50\n",
        "\n",
        "resultado = a + b + c\n",
        "\n",
        "print(\"O resultado é %d\" %(resultado))\n",
        "\n",
        "resultado = resultado * 2 # Aqui não uso parenteses, mas trabalho a hierarquia usando variáveis\n",
        "\n",
        "print(\"O resultado é %d\" %(resultado))"
      ],
      "metadata": {
        "colab": {
          "base_uri": "https://localhost:8080/"
        },
        "id": "0a1cygDPQddA",
        "outputId": "423e06c6-c713-4859-bbbd-f0cdb2f7a9ad"
      },
      "execution_count": null,
      "outputs": [
        {
          "output_type": "stream",
          "name": "stdout",
          "text": [
            "O resultado é 280\n",
            "O resultado é 560\n"
          ]
        }
      ]
    },
    {
      "cell_type": "code",
      "source": [
        "# Maneira mais elegante de fazer soma, multiplcação e divisão\n",
        "a = 1\n",
        "a += 1 # Somando um\n",
        "print(a)\n",
        "\n",
        "a = 2\n",
        "a *= 2 # Multiplicando por 2\n",
        "print(a)\n",
        "\n",
        "a = 6\n",
        "a /= 2 # Dividindo por 2\n",
        "print(a)"
      ],
      "metadata": {
        "colab": {
          "base_uri": "https://localhost:8080/"
        },
        "id": "xC6amZZk70g3",
        "outputId": "1838f2e6-e31d-42d4-c540-a626401d35c5"
      },
      "execution_count": null,
      "outputs": [
        {
          "output_type": "stream",
          "name": "stdout",
          "text": [
            "2\n",
            "4\n",
            "3.0\n"
          ]
        }
      ]
    },
    {
      "cell_type": "markdown",
      "source": [
        "## Operadores: Atividades"
      ],
      "metadata": {
        "id": "F5t3cdeGxSNm"
      }
    },
    {
      "cell_type": "markdown",
      "source": [
        "**Atividade 01**"
      ],
      "metadata": {
        "id": "mqMPJX0nwtKx"
      }
    },
    {
      "cell_type": "code",
      "source": [
        "ano_atual = 2025\n",
        "ano_nascimento = 1984\n",
        "\n",
        "idade_aprox = ano_atual - ano_nascimento\n",
        "\n",
        "minha_idade = \"Minha idade aproximada é de %d anos.\" %(idade_aprox)\n",
        "\n",
        "print(minha_idade)"
      ],
      "metadata": {
        "colab": {
          "base_uri": "https://localhost:8080/"
        },
        "id": "Ze5rq3EfwxfA",
        "outputId": "7880b2dd-ce4c-4a7d-ebab-ba9a5fd4a487"
      },
      "execution_count": null,
      "outputs": [
        {
          "output_type": "stream",
          "name": "stdout",
          "text": [
            "Minha idade aproximada é de 41 anos.\n"
          ]
        }
      ]
    },
    {
      "cell_type": "markdown",
      "source": [
        "**Atividade 02**"
      ],
      "metadata": {
        "id": "-Yt820OHxdQ1"
      }
    },
    {
      "cell_type": "code",
      "source": [
        "n1 = 15\n",
        "n2 = 30\n",
        "n3 = 45\n",
        "\n",
        "media = (n1 + n2 + n3) / 3\n",
        "\n",
        "resultado = \"A média dos números %d, %d e %d é %.2f.\" %(n1,n2,n3,media)\n",
        "print(resultado)"
      ],
      "metadata": {
        "colab": {
          "base_uri": "https://localhost:8080/"
        },
        "id": "kAnnqCzmxd0V",
        "outputId": "aa1c1b19-6f10-4002-bbd6-c10ab5fb96eb"
      },
      "execution_count": null,
      "outputs": [
        {
          "output_type": "stream",
          "name": "stdout",
          "text": [
            "A média dos números 15, 30 e 45 é 30.00.\n"
          ]
        }
      ]
    },
    {
      "cell_type": "markdown",
      "source": [
        "**Atividade 03**"
      ],
      "metadata": {
        "id": "zDihP93G0j3R"
      }
    },
    {
      "cell_type": "code",
      "source": [
        "print(\"Vamos descobrir qual seu IMC!\")\n",
        "\n",
        "print(\"Indique em kg o seu peso atual: \")\n",
        "peso_atual = float(input())\n",
        "\n",
        "print(\"Indique em metros a sua altura: \")\n",
        "altura = float(input())\n",
        "\n",
        "imc = peso_atual / (altura ** 2)\n",
        "\n",
        "resultado = \"O seu IMC é %.2f.\" %(imc)\n",
        "print(resultado)"
      ],
      "metadata": {
        "colab": {
          "base_uri": "https://localhost:8080/"
        },
        "id": "nk7a2hed0jQ1",
        "outputId": "e2757c65-9496-4bdd-ca4c-06458779eb9a"
      },
      "execution_count": null,
      "outputs": [
        {
          "output_type": "stream",
          "name": "stdout",
          "text": [
            "Vamos descobrir qual seu IMC!\n",
            "Indique em kg o seu peso atual: \n",
            "95\n",
            "Indique em metros a sua altura: \n",
            "1.78\n",
            "O seu IMC é 29.98.\n"
          ]
        }
      ]
    },
    {
      "cell_type": "markdown",
      "source": [
        "**Atividade 04**"
      ],
      "metadata": {
        "id": "wMxJbgl42C3b"
      }
    },
    {
      "cell_type": "code",
      "source": [
        "print(\"Calculadora de Ovos de Páscoa.\\n\")\n",
        "\n",
        "print(\"Indique o número de ovos disponíveis: \")\n",
        "qtd_ovos = int(input())\n",
        "\n",
        "print(\"Indique o número de pessoas para recebem: \")\n",
        "qtd_pessoas = int(input())\n",
        "\n",
        "ovos_por_pessoa = qtd_ovos // qtd_pessoas\n",
        "sobra = qtd_ovos % qtd_pessoas\n",
        "\n",
        "resultado = \"Cada pessoa receberá %d ovos de páscoa e sobrarão %d ovos.\" %(ovos_por_pessoa, sobra)\n",
        "print(resultado)"
      ],
      "metadata": {
        "colab": {
          "base_uri": "https://localhost:8080/"
        },
        "id": "C1VuTWPl2DWV",
        "outputId": "c11fbfa3-8ec3-4db3-b17e-7c8a6e2503c8"
      },
      "execution_count": null,
      "outputs": [
        {
          "output_type": "stream",
          "name": "stdout",
          "text": [
            "Calculadora de Ovos de Páscoa.\n",
            "\n",
            "Indique o número de ovos disponíveis: \n",
            "30\n",
            "Indique o número de pessoas para recebem: \n",
            "12\n",
            "Cada pessoa receberá 2 ovos de páscoa e sobrarão 6 ovos.\n"
          ]
        }
      ]
    },
    {
      "cell_type": "markdown",
      "source": [
        "# Operadores Lógicos"
      ],
      "metadata": {
        "id": "7LmiLyENJBZo"
      }
    },
    {
      "cell_type": "code",
      "source": [
        "# Compreendendo os operadores\n",
        "## Prioridade: NOT, AND, OR\n",
        "\n",
        "print(False and False)\n",
        "print(True and False)\n",
        "print(True and True)\n",
        "print(True and False)\n",
        "\n",
        "print(False and False and False)\n",
        "print(True and False and False)\n",
        "print(True and True and False)\n",
        "print(True and True and True)\n",
        "\n",
        "print(False or False)\n",
        "print(True or False)\n",
        "print(True or True)\n",
        "print(True or False)\n",
        "\n",
        "print(not True)\n",
        "print(not False)\n",
        "\n",
        "print(not False and True)\n",
        "print(not True and True)\n",
        "\n"
      ],
      "metadata": {
        "colab": {
          "base_uri": "https://localhost:8080/"
        },
        "id": "GXVsl7GyJEuR",
        "outputId": "769c3bdc-df5e-4946-c4d2-b9d00166bbad"
      },
      "execution_count": null,
      "outputs": [
        {
          "output_type": "stream",
          "name": "stdout",
          "text": [
            "False\n",
            "False\n",
            "True\n",
            "False\n",
            "False\n",
            "False\n",
            "False\n",
            "True\n",
            "False\n",
            "True\n",
            "True\n",
            "True\n",
            "False\n",
            "True\n",
            "True\n",
            "False\n"
          ]
        }
      ]
    },
    {
      "cell_type": "code",
      "source": [
        "vai_chover = 'T'\n",
        "while vai_chover != True and vai_chover != False:\n",
        "  print(\"Vai chover hoje? (Digite 'S' ou 'N') \")\n",
        "  vai_chover = str(input())\n",
        "  if vai_chover == 'S':\n",
        "    vai_chover = True\n",
        "  elif vai_chover == 'N':\n",
        "    vai_chover = False\n",
        "\n",
        "tem_prova = 'T'\n",
        "while tem_prova != True and tem_prova != False:\n",
        "  print(\"Tem prova hoje? (Digite 'S' ou 'N') \")\n",
        "  tem_prova = str(input())\n",
        "  if tem_prova == 'S':\n",
        "    tem_prova = True\n",
        "  elif tem_prova == 'N':\n",
        "    tem_prova = False\n",
        "\n",
        "if vai_chover == True and tem_prova == True:\n",
        "  print(\"Hoje preciso ir para aula!\")\n",
        "elif vai_chover == False and tem_prova == True:\n",
        "  print(\"Hoje preciso ir para aula!\")\n",
        "else:\n",
        "  print(\"Hoje não preciso ir para aula!\")"
      ],
      "metadata": {
        "colab": {
          "base_uri": "https://localhost:8080/"
        },
        "id": "oQcBTSWuLn_s",
        "outputId": "da017c5d-fb77-4db0-9f20-58a5835e33e9"
      },
      "execution_count": null,
      "outputs": [
        {
          "output_type": "stream",
          "name": "stdout",
          "text": [
            "Vai chover hoje? (Digite 'S' ou 'N') \n",
            "S\n",
            "Tem prova hoje? (Digite 'S' ou 'N') \n",
            "N\n",
            "Hoje não preciso ir para aula!\n"
          ]
        }
      ]
    },
    {
      "cell_type": "markdown",
      "source": [
        "**Atividade 01**"
      ],
      "metadata": {
        "id": "8OAc6nyxSO7l"
      }
    },
    {
      "cell_type": "code",
      "source": [
        "falta_comida = 'T'\n",
        "while falta_comida != True and falta_comida != False:\n",
        "  print(\"Vai faltar comida? (Digite 'S' ou 'N') \")\n",
        "  falta_comida = str(input())\n",
        "  if falta_comida == 'S':\n",
        "    falta_comida = True\n",
        "  elif falta_comida == 'N':\n",
        "    falta_comida = False\n",
        "\n",
        "sabado = 'T'\n",
        "while sabado != True and sabado != False:\n",
        "  print(\"Hoje é sábado? (Digite 'S' ou 'N') \")\n",
        "  sabado = str(input())\n",
        "  if sabado == 'S':\n",
        "    sabado = True\n",
        "  elif sabado == 'N':\n",
        "    sabado = False\n",
        "\n",
        "if falta_comida == True or sabado == True:\n",
        "  print(\"Preciso ir ao mercado!\")\n",
        "else:\n",
        "  print(\"Não vou ao mercado!\")"
      ],
      "metadata": {
        "colab": {
          "base_uri": "https://localhost:8080/"
        },
        "id": "2-FC-MNvSPWB",
        "outputId": "547e570d-8774-4608-c539-1acb4e3e6e35"
      },
      "execution_count": null,
      "outputs": [
        {
          "output_type": "stream",
          "name": "stdout",
          "text": [
            "Vai faltar comida? (Digite 'S' ou 'N') \n",
            "N\n",
            "Hoje é sábado? (Digite 'S' ou 'N') \n",
            "N\n",
            "Não vou ao mercado!\n"
          ]
        }
      ]
    },
    {
      "cell_type": "markdown",
      "source": [
        "**Atividade 02**"
      ],
      "metadata": {
        "id": "5MovKAyGTKKc"
      }
    },
    {
      "cell_type": "code",
      "source": [
        "sinal_vermelho = True\n",
        "sem_carro_direita = True\n",
        "sem_carro_esquerda = True\n",
        "print(\"Posso atravessar a rua: \", sinal_vermelho and sem_carro_direita and sem_carro_esquerda)\n",
        "#\n",
        "\n",
        "sinal_vermelho = False\n",
        "sem_carro_direita = True\n",
        "sem_carro_esquerda = True\n",
        "print(\"Posso atravessar a rua: \", sinal_vermelho and sem_carro_direita and sem_carro_esquerda)\n",
        "#\n",
        "\n",
        "sinal_vermelho = True\n",
        "sem_carro_direita = True\n",
        "sem_carro_esquerda = False\n",
        "print(\"Posso atravessar a rua: \", sinal_vermelho and sem_carro_direita and sem_carro_esquerda)\n",
        "#"
      ],
      "metadata": {
        "colab": {
          "base_uri": "https://localhost:8080/"
        },
        "id": "Vi2lUtc6TJwU",
        "outputId": "148c271d-084f-4f03-f324-a35c548417da"
      },
      "execution_count": null,
      "outputs": [
        {
          "output_type": "stream",
          "name": "stdout",
          "text": [
            "Posso atravessar a rua:  True\n",
            "Posso atravessar a rua:  False\n",
            "Posso atravessar a rua:  False\n"
          ]
        }
      ]
    },
    {
      "cell_type": "code",
      "source": [
        "sinal_vermelho = True\n",
        "vem_carro_direita = False\n",
        "vem_carro_esquerda = False\n",
        "print(\"Posso atravessar a rua: \", sinal_vermelho and not vem_carro_direita and not vem_carro_esquerda)\n",
        "#\n",
        "\n",
        "sinal_vermelho = True\n",
        "vem_carro_direita = True\n",
        "vem_carro_esquerda = False\n",
        "print(\"Posso atravessar a rua: \", sinal_vermelho and not vem_carro_direita or not vem_carro_esquerda)\n",
        "#"
      ],
      "metadata": {
        "colab": {
          "base_uri": "https://localhost:8080/"
        },
        "id": "uqIiBGa4WOCS",
        "outputId": "1757459a-f2e9-42d3-a2b3-0eb6c7ab5ab5"
      },
      "execution_count": null,
      "outputs": [
        {
          "output_type": "stream",
          "name": "stdout",
          "text": [
            "Posso atravessar a rua:  True\n",
            "Posso atravessar a rua:  True\n"
          ]
        }
      ]
    },
    {
      "cell_type": "markdown",
      "source": [
        "**Atividade 03**"
      ],
      "metadata": {
        "id": "zt7VK0WEUUFG"
      }
    },
    {
      "cell_type": "code",
      "source": [
        "sinal_vermelho = True\n",
        "sem_carro_direita = True\n",
        "sem_carro_esquerda = True\n",
        "print(\"Posso atravessar a rua: \", sinal_vermelho or sem_carro_direita and sem_carro_esquerda)\n",
        "#\n",
        "\n",
        "sinal_vermelho = False\n",
        "sem_carro_direita = True\n",
        "sem_carro_esquerda = True\n",
        "print(\"Posso atravessar a rua: \", sinal_vermelho or sem_carro_direita and sem_carro_esquerda)\n",
        "#\n",
        "\n",
        "sinal_vermelho = True\n",
        "sem_carro_direita = True\n",
        "sem_carro_esquerda = False\n",
        "print(\"Posso atravessar a rua: \", sinal_vermelho or sem_carro_direita and sem_carro_esquerda)\n",
        "#\n",
        "\n",
        "sinal_vermelho = False\n",
        "sem_carro_direita = True\n",
        "sem_carro_esquerda = False\n",
        "print(\"Posso atravessar a rua: \", sinal_vermelho or sem_carro_direita and sem_carro_esquerda)\n",
        "#"
      ],
      "metadata": {
        "colab": {
          "base_uri": "https://localhost:8080/"
        },
        "id": "OZhHOXukUTzU",
        "outputId": "dee9f798-1668-4a70-e7e2-51b515b28cf3"
      },
      "execution_count": null,
      "outputs": [
        {
          "output_type": "stream",
          "name": "stdout",
          "text": [
            "Posso atravessar a rua:  True\n",
            "Posso atravessar a rua:  True\n",
            "Posso atravessar a rua:  True\n",
            "Posso atravessar a rua:  False\n"
          ]
        }
      ]
    },
    {
      "cell_type": "markdown",
      "source": [
        "# Type and Casting"
      ],
      "metadata": {
        "id": "JyfGeUQEW5sk"
      }
    },
    {
      "cell_type": "markdown",
      "source": [
        ". Casting é transformar dados de um tipo para outro."
      ],
      "metadata": {
        "id": "8XyZ7nwneEjI"
      }
    },
    {
      "cell_type": "code",
      "source": [
        "var1 = 1\n",
        "var2 = '1'\n",
        "var3 = True\n",
        "var4 = 1.456\n",
        "var5 = None\n",
        "\n",
        "print('var1 é:',type(var1))\n",
        "print('var2 é:',type(var2))\n",
        "print('var3 é:',type(var3))\n",
        "print('var4 é:',type(var4))\n",
        "print('var5 é:',type(var5))\n",
        "print('\\n')\n",
        "\n",
        "var6 = int(var2)\n",
        "print('var2: ', var2)\n",
        "print('var6: ', var6)\n",
        "print('var2 é: %s' %(type(var2)))\n",
        "print('var6 é: %s' %(type(var6)))\n",
        "print('\\n')\n",
        "\n",
        "var7 = float(var1)\n",
        "print('var1: ', var1)\n",
        "print('var7: ', var7)\n",
        "print('var1 é: %s' %(type(var1)))\n",
        "print('var7 é: %s' %(type(var7)))\n",
        "print('\\n')\n",
        "\n",
        "\n",
        "#"
      ],
      "metadata": {
        "colab": {
          "base_uri": "https://localhost:8080/"
        },
        "id": "PaYhMGzGW9dN",
        "outputId": "010e1aa7-df6c-4641-a7de-1d00d94d7112"
      },
      "execution_count": null,
      "outputs": [
        {
          "output_type": "stream",
          "name": "stdout",
          "text": [
            "var1 é: <class 'int'>\n",
            "var2 é: <class 'str'>\n",
            "var3 é: <class 'bool'>\n",
            "var4 é: <class 'float'>\n",
            "var5 é: <class 'NoneType'>\n",
            "\n",
            "\n",
            "var2:  1\n",
            "var6:  1\n",
            "var2 é: <class 'str'>\n",
            "var6 é: <class 'int'>\n",
            "\n",
            "\n",
            "var1:  1\n",
            "var7:  1.0\n",
            "var1 é: <class 'int'>\n",
            "var7 é: <class 'float'>\n",
            "\n",
            "\n"
          ]
        }
      ]
    },
    {
      "cell_type": "markdown",
      "source": [
        "##Type and Casting: Atividades"
      ],
      "metadata": {
        "id": "wfc_DHZS2-kn"
      }
    },
    {
      "cell_type": "markdown",
      "source": [
        "**Atividade 01**"
      ],
      "metadata": {
        "id": "_yp02sdMhKHM"
      }
    },
    {
      "cell_type": "code",
      "source": [
        "saldo_bancario = '1235.55'\n",
        "saida = '1000.00'\n",
        "resultado = float(saldo_bancario) - float(saida)\n",
        "print('Saldo em 03/06/2025: US$%.2f' %(float(saldo_bancario)))\n",
        "print('Saída em 03/06/2025: US$%.2f' %(float(saida)))\n",
        "print('-------------------------------------')\n",
        "print('Saldo final: US$%.2f' %(resultado))"
      ],
      "metadata": {
        "colab": {
          "base_uri": "https://localhost:8080/"
        },
        "id": "Bq1oJ0h2hJ4A",
        "outputId": "c961cc92-6434-4461-e9c8-675b4e370269"
      },
      "execution_count": null,
      "outputs": [
        {
          "output_type": "stream",
          "name": "stdout",
          "text": [
            "Saldo em 03/06/2025: US$1235.55\n",
            "Saída em 03/06/2025: US$1000.00\n",
            "-------------------------------------\n",
            "Saldo final: US$235.55\n"
          ]
        }
      ]
    },
    {
      "cell_type": "markdown",
      "source": [
        "**Atividade 02**"
      ],
      "metadata": {
        "id": "FqbWBClrhNM1"
      }
    },
    {
      "cell_type": "code",
      "source": [
        "saldo_bancario = '1235.55'\n",
        "saida = '1000.00'\n",
        "resultado = float(saldo_bancario) - float(saida)\n",
        "print('Saldo em 03/06/2025: US$%.2f' %(float(saldo_bancario)))\n",
        "print('Saída em 03/06/2025: US$%.2f' %(float(saida)))\n",
        "print('-------------------------------------')\n",
        "print('Saldo final: US$%.2f' %(resultado))\n",
        "resultado_zerado = not bool(resultado)\n",
        "print('O saldo final é zero? ', resultado_zerado)\n",
        "\n"
      ],
      "metadata": {
        "id": "MRI-mYpDhQqe",
        "colab": {
          "base_uri": "https://localhost:8080/"
        },
        "outputId": "3fef580d-08f9-46fb-aa20-7d06eea3998b"
      },
      "execution_count": 4,
      "outputs": [
        {
          "output_type": "stream",
          "name": "stdout",
          "text": [
            "Saldo em 03/06/2025: US$1235.55\n",
            "Saída em 03/06/2025: US$1000.00\n",
            "-------------------------------------\n",
            "Saldo final: US$235.55\n",
            "O saldo final é zero?  False\n"
          ]
        }
      ]
    },
    {
      "cell_type": "markdown",
      "source": [
        "**Atividade 03**"
      ],
      "metadata": {
        "id": "GsVIMdMChPKp"
      }
    },
    {
      "cell_type": "code",
      "source": [
        "altura = 1.78\n",
        "resultado = int(altura)\n",
        "print(\"Minha altura é: %.2fm.\" %(altura))\n",
        "print(\"Minha altura (parte inteira) é: %.2fm.\" %(resultado))"
      ],
      "metadata": {
        "id": "6M8VxipRhRPa",
        "colab": {
          "base_uri": "https://localhost:8080/"
        },
        "outputId": "fa1110f5-5e8f-4753-ca5c-37a0001691c2"
      },
      "execution_count": 2,
      "outputs": [
        {
          "output_type": "stream",
          "name": "stdout",
          "text": [
            "Minha altura é: 1.78m.\n",
            "Minha altura (parte inteira) é: 1.00m.\n"
          ]
        }
      ]
    },
    {
      "cell_type": "markdown",
      "source": [
        "#Lendo Entradas do Usuário"
      ],
      "metadata": {
        "id": "BPhw7qPX54mX"
      }
    },
    {
      "cell_type": "code",
      "source": [
        "var1 = input()\n",
        "print(var1)"
      ],
      "metadata": {
        "colab": {
          "base_uri": "https://localhost:8080/"
        },
        "id": "11KzQXsO58I7",
        "outputId": "8da619ce-589d-4f7c-f379-9da21c492df5"
      },
      "execution_count": 5,
      "outputs": [
        {
          "output_type": "stream",
          "name": "stdout",
          "text": [
            "10\n",
            "10\n"
          ]
        }
      ]
    },
    {
      "cell_type": "code",
      "source": [
        "print(\"Digite um número inteiro:\")\n",
        "var1 = int(input())\n",
        "print(\"O número digitado é: %d\" %(var1))"
      ],
      "metadata": {
        "colab": {
          "base_uri": "https://localhost:8080/"
        },
        "id": "pZdORIgq5816",
        "outputId": "397cbe6e-15df-45ca-9c71-ecd84e665ae2"
      },
      "execution_count": 13,
      "outputs": [
        {
          "output_type": "stream",
          "name": "stdout",
          "text": [
            "Digite um número inteiro:\n",
            "10\n",
            "O número digitado é: 10\n"
          ]
        }
      ]
    },
    {
      "cell_type": "markdown",
      "source": [
        "## Lendo Entradas do Usuário: Atividades"
      ],
      "metadata": {
        "id": "x2he4mpX9yH3"
      }
    },
    {
      "cell_type": "markdown",
      "source": [
        "**Atividade 01**"
      ],
      "metadata": {
        "id": "gl4sEhGk92T2"
      }
    },
    {
      "cell_type": "code",
      "source": [
        "print(\"Digite o primeiro número: \")\n",
        "num1 = float(input())\n",
        "\n",
        "print(\"Digite o segundo número: \")\n",
        "num2 = float(input())\n",
        "\n",
        "resultado = num1 / num2\n",
        "print('O primeiro número digitado é: %.2f' %(num1))\n",
        "print('O segundo número digitado é: %.2f' %(num2))\n",
        "print('-------------------------------------')\n",
        "print('A divisão do num1 pelo num2 é: %.2f' %(resultado))\n"
      ],
      "metadata": {
        "colab": {
          "base_uri": "https://localhost:8080/"
        },
        "id": "P200QUJU58ye",
        "outputId": "d60dbbc5-ab1d-41bd-c75e-a66fb4da3daa"
      },
      "execution_count": 15,
      "outputs": [
        {
          "output_type": "stream",
          "name": "stdout",
          "text": [
            "Digite o primeiro número: \n",
            "15\n",
            "Digite o segundo número: \n",
            "62\n",
            "O primeiro número digitado é: 15.00\n",
            "O segundo número digitado é: 62.00\n",
            "-------------------------------------\n",
            "A divisão do num1 pelo num2 é: 0.24\n"
          ]
        }
      ]
    },
    {
      "cell_type": "markdown",
      "source": [
        "**Atividade 02**"
      ],
      "metadata": {
        "id": "6bMMywv092rQ"
      }
    },
    {
      "cell_type": "code",
      "source": [
        "print(\"Indique o dia do mês: \")\n",
        "dia = int(input())\n",
        "print(\"Indique o mês do ano: \")\n",
        "mes = int(input())\n",
        "print(\"Indique o ano: \")\n",
        "ano = int(input())\n",
        "\n",
        "print(\"A data inserida é: %d/%d/%d.\" %(dia, mes, ano))"
      ],
      "metadata": {
        "colab": {
          "base_uri": "https://localhost:8080/"
        },
        "id": "_UHO0JJl910j",
        "outputId": "ccce8a96-a6af-414c-88f2-69d2f1f0b377"
      },
      "execution_count": 16,
      "outputs": [
        {
          "output_type": "stream",
          "name": "stdout",
          "text": [
            "Indique o dia do mês: \n",
            "31\n",
            "Indique o mês do ano: \n",
            "5\n",
            "Indique o ano: \n",
            "1984\n",
            "A data inserida é: 31/5/1984.\n"
          ]
        }
      ]
    },
    {
      "cell_type": "markdown",
      "source": [
        "#Atribuição e Combinação de Operadores Lógicos"
      ],
      "metadata": {
        "id": "bvoe07tkHh90"
      }
    },
    {
      "cell_type": "markdown",
      "source": [
        "**Atividade 01**"
      ],
      "metadata": {
        "id": "KL_2dtmAHmYk"
      }
    },
    {
      "cell_type": "code",
      "source": [
        "print(\"Qual foi média das provas?\")\n",
        "media = float(input())\n",
        "\n",
        "print(\"Qual foi nota no exame?\")\n",
        "exame = float(input())\n",
        "\n",
        "resultado = media >= 7 or exame >=5\n",
        "print(\"Aprovado?\", resultado)"
      ],
      "metadata": {
        "colab": {
          "base_uri": "https://localhost:8080/"
        },
        "id": "qAGVSq3mHlw9",
        "outputId": "3b8ff279-2ce6-45a2-decc-5bfe76e81b89"
      },
      "execution_count": 18,
      "outputs": [
        {
          "output_type": "stream",
          "name": "stdout",
          "text": [
            "Qual foi média das provas?\n",
            "7\n",
            "Qual foi nota no exame?\n",
            "6\n",
            "Aprovado? True\n"
          ]
        }
      ]
    },
    {
      "cell_type": "markdown",
      "source": [],
      "metadata": {
        "id": "LjCBjREuIgTW"
      }
    },
    {
      "cell_type": "code",
      "source": [
        "print(\"Digite sua nova senha: \")\n",
        "senha = str(input())\n",
        "\n",
        "print(\"digite sua senha para confirmar: \")\n",
        "senha_conf = str(input())\n",
        "\n",
        "resultado = senha == senha_conf\n",
        "print(\"Senha confirmada? \", resultado)"
      ],
      "metadata": {
        "colab": {
          "base_uri": "https://localhost:8080/"
        },
        "id": "B0opRR_CIgyy",
        "outputId": "44dc92df-6c41-42e0-b433-b09b0955c8a8"
      },
      "execution_count": 20,
      "outputs": [
        {
          "output_type": "stream",
          "name": "stdout",
          "text": [
            "Digite sua nova senha: \n",
            "56489\n",
            "digite sua senha para confirmar: \n",
            "56489\n",
            "Senha confirmada?  True\n"
          ]
        }
      ]
    },
    {
      "cell_type": "markdown",
      "source": [
        "# Uso de Strings"
      ],
      "metadata": {
        "id": "1Jp_aFqOOsjY"
      }
    },
    {
      "cell_type": "markdown",
      "source": [
        "## Slicing de String"
      ],
      "metadata": {
        "id": "D1ScYTo9OGi4"
      }
    },
    {
      "cell_type": "code",
      "source": [
        "var1 = \"business\"\n",
        "print(var1[1])\n",
        "print(var1[0])\n",
        "print(var1[6])\n",
        "print(var1[:5])\n",
        "print(var1[3:5])\n",
        "print(var1[3:])\n",
        "print(var1[-1])\n",
        "print(var1[-3])\n",
        "print(var1[:-1])\n",
        "print(var1[:-3])\n",
        "print(var1[-5:-1])\n",
        "print(var1[1:4])\n",
        "print(var1[::-1])\n",
        "print(var1[:2:-1])"
      ],
      "metadata": {
        "colab": {
          "base_uri": "https://localhost:8080/"
        },
        "id": "DsLLQBb2OI1Y",
        "outputId": "a90f158d-f5c0-44aa-c457-d71c282e8f44"
      },
      "execution_count": 59,
      "outputs": [
        {
          "output_type": "stream",
          "name": "stdout",
          "text": [
            "u\n",
            "b\n",
            "s\n",
            "busin\n",
            "in\n",
            "iness\n",
            "s\n",
            "e\n",
            "busines\n",
            "busin\n",
            "ines\n",
            "usi\n",
            "ssenisub\n",
            "sseni\n",
            "O valor é:  \n"
          ]
        }
      ]
    },
    {
      "cell_type": "markdown",
      "source": [
        "## \"Operações\" com strings"
      ],
      "metadata": {
        "id": "bm9qi78xPauU"
      }
    },
    {
      "cell_type": "code",
      "source": [
        "var1 = \"carro\"\n",
        "var2 = \"bonito\"\n",
        "resultado = var1 + var2\n",
        "print(resultado)\n",
        "\n",
        "print(\"---------------------------\")\n",
        "var1 = \"carro \"\n",
        "var2 = \"bonito\"\n",
        "resultado = var1 + var2\n",
        "print(resultado)\n",
        "\n",
        "print(\"---------------------------\")\n",
        "resultado2 = var1 + \"\" + var2\n",
        "print(resultado2)\n",
        "\n",
        "print(\"---------------------------\")\n",
        "var3 = \"carro\"\n",
        "print(var3)\n",
        "var3 += \" bonito\"\n",
        "print(var3)"
      ],
      "metadata": {
        "colab": {
          "base_uri": "https://localhost:8080/"
        },
        "id": "i6FtHrKeOwDt",
        "outputId": "50b6b327-dae5-45dd-a33a-1e9866fd81dc"
      },
      "execution_count": 38,
      "outputs": [
        {
          "output_type": "stream",
          "name": "stdout",
          "text": [
            "carrobonito\n",
            "---------------------------\n",
            "carro bonito\n",
            "---------------------------\n",
            "carro bonito\n",
            "---------------------------\n",
            "carro\n",
            "carro bonito\n"
          ]
        }
      ]
    },
    {
      "cell_type": "code",
      "source": [
        "var1 = \"bota\"\n",
        "var2 = var1 * 3\n",
        "print(var2)\n",
        "\n",
        "var1 = \"bota \"\n",
        "var2 = var1 * 3\n",
        "print(var2)"
      ],
      "metadata": {
        "colab": {
          "base_uri": "https://localhost:8080/"
        },
        "id": "KcpcglaXOwAB",
        "outputId": "3115eb2b-0bfc-480a-9715-ad9f4e3e88b0"
      },
      "execution_count": 31,
      "outputs": [
        {
          "output_type": "stream",
          "name": "stdout",
          "text": [
            "botabotabota\n",
            "bota bota bota \n"
          ]
        }
      ]
    },
    {
      "cell_type": "code",
      "source": [],
      "metadata": {
        "id": "iQUOKZUeOvi_"
      },
      "execution_count": null,
      "outputs": []
    }
  ]
}