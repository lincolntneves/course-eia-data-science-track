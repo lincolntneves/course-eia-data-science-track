{
  "nbformat": 4,
  "nbformat_minor": 0,
  "metadata": {
    "colab": {
      "provenance": [],
      "toc_visible": true,
      "authorship_tag": "ABX9TyMakESOT7gsPxCtzkVBSKS+",
      "include_colab_link": true
    },
    "kernelspec": {
      "name": "python3",
      "display_name": "Python 3"
    },
    "language_info": {
      "name": "python"
    }
  },
  "cells": [
    {
      "cell_type": "markdown",
      "metadata": {
        "id": "view-in-github",
        "colab_type": "text"
      },
      "source": [
        "<a href=\"https://colab.research.google.com/github/lincolntneves/course-eia-data-science-track/blob/main/02%20-%20Professional%20Training%20Python%20Complete%20Course%20%2B%20Projects/02_Fundamentos.ipynb\" target=\"_parent\"><img src=\"https://colab.research.google.com/assets/colab-badge.svg\" alt=\"Open In Colab\"/></a>"
      ]
    },
    {
      "cell_type": "markdown",
      "source": [
        "## Método Print: Atividades"
      ],
      "metadata": {
        "id": "kX43AGiSYZ1f"
      }
    },
    {
      "cell_type": "markdown",
      "source": [
        "**Atividade 01**"
      ],
      "metadata": {
        "id": "GSocOspkU-U5"
      }
    },
    {
      "cell_type": "code",
      "source": [
        "print(\"Lincoln\")\n",
        "print(\"40\")\n",
        "print(\"1.78\")"
      ],
      "metadata": {
        "colab": {
          "base_uri": "https://localhost:8080/"
        },
        "id": "cdJpB_inUAtA",
        "outputId": "0b37cb6e-506b-4e95-b17a-ce8ba1b7b597"
      },
      "execution_count": 1,
      "outputs": [
        {
          "output_type": "stream",
          "name": "stdout",
          "text": [
            "Lincoln\n",
            "40\n",
            "1.78\n"
          ]
        }
      ]
    },
    {
      "cell_type": "markdown",
      "source": [
        "**Atividade 02**"
      ],
      "metadata": {
        "id": "jImqivgWVHIT"
      }
    },
    {
      "cell_type": "code",
      "execution_count": null,
      "metadata": {
        "colab": {
          "base_uri": "https://localhost:8080/"
        },
        "id": "E25jhaFwf0co",
        "outputId": "c8bb7031-d2fc-4680-daf9-faa13ded8bc2"
      },
      "outputs": [
        {
          "output_type": "stream",
          "name": "stdout",
          "text": [
            "Nome: Lincoln \n",
            "Idade: 40 \n",
            "Altura: 1,78\n"
          ]
        }
      ],
      "source": [
        "print(\"Nome: {} \\nIdade: {} \\nAltura: {}\".format(\"Lincoln\",\"40\",\"1,78\"))"
      ]
    },
    {
      "cell_type": "markdown",
      "source": [
        "**Atividade 03**"
      ],
      "metadata": {
        "id": "LI9p_cnqVKj8"
      }
    },
    {
      "cell_type": "code",
      "source": [
        "print(\"30\",\"31\",\"32\", sep=\"-\")"
      ],
      "metadata": {
        "colab": {
          "base_uri": "https://localhost:8080/"
        },
        "id": "zXMUkfgSUcn8",
        "outputId": "740adac9-7784-4994-f749-165cd048b292"
      },
      "execution_count": 2,
      "outputs": [
        {
          "output_type": "stream",
          "name": "stdout",
          "text": [
            "30-31-32\n"
          ]
        }
      ]
    },
    {
      "cell_type": "markdown",
      "source": [
        "# Principais Variáveis"
      ],
      "metadata": {
        "id": "4ETny7j0fwz7"
      }
    },
    {
      "cell_type": "code",
      "source": [
        "# padrão camel case\n",
        "saldoBancario = 100\n",
        "\n",
        "# padrão pascal case\n",
        "SaldoBancario = 100\n",
        "\n",
        "# padrão snake case\n",
        "saldo_bancario = 100"
      ],
      "metadata": {
        "id": "wRjZlCFnfxZN"
      },
      "execution_count": null,
      "outputs": []
    },
    {
      "cell_type": "markdown",
      "source": [
        "## Principais Variáveis: Atividades"
      ],
      "metadata": {
        "id": "fJroKbBQgaZ8"
      }
    },
    {
      "cell_type": "markdown",
      "source": [
        "**Atividade 01**"
      ],
      "metadata": {
        "id": "rxnG8Mp9i168"
      }
    },
    {
      "cell_type": "code",
      "source": [
        "saldoConta = 1000.34\n",
        "resposta = True\n",
        "peso = 78\n",
        "cadeira = None\n",
        "\n",
        "print(saldoConta)\n",
        "print(resposta)\n",
        "print(peso)\n",
        "print(cadeira)"
      ],
      "metadata": {
        "colab": {
          "base_uri": "https://localhost:8080/"
        },
        "id": "jt9DMsMMgbGf",
        "outputId": "85084e4c-e289-4c89-a88c-5de37c561250"
      },
      "execution_count": 4,
      "outputs": [
        {
          "output_type": "stream",
          "name": "stdout",
          "text": [
            "1000.34\n",
            "True\n",
            "78\n",
            "None\n"
          ]
        }
      ]
    },
    {
      "cell_type": "markdown",
      "source": [
        "**Atividade 02**"
      ],
      "metadata": {
        "id": "UE_kPiU1i8rD"
      }
    },
    {
      "cell_type": "code",
      "source": [
        "nome = \"Lincoln\"\n",
        "cpf = \"10533455601\"\n",
        "casado = True\n",
        "\n",
        "print(\"Nome: {}, CPF: {}, Casado: {}\".format(nome,cpf,casado))"
      ],
      "metadata": {
        "colab": {
          "base_uri": "https://localhost:8080/"
        },
        "id": "MMtImT3qgf_D",
        "outputId": "354eb9b2-2ce2-4f21-c115-909b491f3ad1"
      },
      "execution_count": 5,
      "outputs": [
        {
          "output_type": "stream",
          "name": "stdout",
          "text": [
            "Nome: Lincoln, CPF: 10533455601, Casado: True\n"
          ]
        }
      ]
    },
    {
      "cell_type": "code",
      "source": [
        "nome = \"Lincoln\"\n",
        "cpf = \"10533455601\"\n",
        "casado = True\n",
        "\n",
        "print(\"Nome: \", nome)\n",
        "print(\"CPF: \", cpf)\n",
        "print(\"Casado: \", casado)\n"
      ],
      "metadata": {
        "colab": {
          "base_uri": "https://localhost:8080/"
        },
        "id": "50-x7mAomcdv",
        "outputId": "e238211a-ee0a-4ce4-d237-d539cf7b3ad4"
      },
      "execution_count": 6,
      "outputs": [
        {
          "output_type": "stream",
          "name": "stdout",
          "text": [
            "Nome:  Lincoln\n",
            "CPF:  10533455601\n",
            "Casado:  True\n"
          ]
        }
      ]
    },
    {
      "cell_type": "code",
      "source": [
        "nome = \"Lincoln\"\n",
        "cpf = \"10533455601\"\n",
        "casado = True\n",
        "\n",
        "print(\"Nome: {} \\nCPF: {} \\nCasado: {}\".format(nome,cpf,casado))"
      ],
      "metadata": {
        "colab": {
          "base_uri": "https://localhost:8080/"
        },
        "id": "eDVM7msamrHV",
        "outputId": "9df0bd90-d6c4-4dbc-e18c-132a1060015f"
      },
      "execution_count": 8,
      "outputs": [
        {
          "output_type": "stream",
          "name": "stdout",
          "text": [
            "Nome: Lincoln \n",
            "CPF: 10533455601 \n",
            "Casado: True\n"
          ]
        }
      ]
    }
  ]
}