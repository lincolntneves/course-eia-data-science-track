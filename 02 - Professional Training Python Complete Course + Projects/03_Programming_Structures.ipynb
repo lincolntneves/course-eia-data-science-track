{
  "nbformat": 4,
  "nbformat_minor": 0,
  "metadata": {
    "colab": {
      "provenance": [],
      "toc_visible": true,
      "authorship_tag": "ABX9TyMUbTic83+iMlPZoU5scxVK",
      "include_colab_link": true
    },
    "kernelspec": {
      "name": "python3",
      "display_name": "Python 3"
    },
    "language_info": {
      "name": "python"
    }
  },
  "cells": [
    {
      "cell_type": "markdown",
      "metadata": {
        "id": "view-in-github",
        "colab_type": "text"
      },
      "source": [
        "<a href=\"https://colab.research.google.com/github/lincolntneves/course-eia-data-science-track/blob/main/02%20-%20Professional%20Training%20Python%20Complete%20Course%20%2B%20Projects/03_Programming_Structures.ipynb\" target=\"_parent\"><img src=\"https://colab.research.google.com/assets/colab-badge.svg\" alt=\"Open In Colab\"/></a>"
      ]
    },
    {
      "cell_type": "markdown",
      "source": [
        "# IF Structure"
      ],
      "metadata": {
        "id": "bnzbpsJcMpwZ"
      }
    },
    {
      "cell_type": "code",
      "source": [
        "var = 1\n",
        "if var == 1:\n",
        "  print(\"The variable is 1\")"
      ],
      "metadata": {
        "id": "lPRsY5JvA_nq",
        "colab": {
          "base_uri": "https://localhost:8080/"
        },
        "outputId": "4dd810ca-c81e-404f-d943-a4ca83a4698c"
      },
      "execution_count": null,
      "outputs": [
        {
          "output_type": "stream",
          "name": "stdout",
          "text": [
            "The variable is 1\n"
          ]
        }
      ]
    },
    {
      "cell_type": "code",
      "source": [
        "print(\"Enter an int number: \")\n",
        "var = int(input())\n",
        "if var == 1:\n",
        "  print(\"The variable is 1\")\n",
        "else:\n",
        "  print(\"The variable is not 1\")"
      ],
      "metadata": {
        "colab": {
          "base_uri": "https://localhost:8080/"
        },
        "id": "7bDo0pTcMqX-",
        "outputId": "1523b59e-0cad-4041-80e9-2515f5355ff4"
      },
      "execution_count": null,
      "outputs": [
        {
          "output_type": "stream",
          "name": "stdout",
          "text": [
            "Enter an int number: \n",
            "1\n",
            "The variable is 1\n"
          ]
        }
      ]
    },
    {
      "cell_type": "code",
      "source": [
        "print(\"Enter an int number: \")\n",
        "var = int(input())\n",
        "if var == 1:\n",
        "  print(\"The variable is 1\")\n",
        "elif var == 2:\n",
        "  print(\"The variable is 2\")\n",
        "elif var == 3:\n",
        "  print(\"The variable is 3\")\n",
        "else:\n",
        "  print(\"I don't recognize that number\")"
      ],
      "metadata": {
        "colab": {
          "base_uri": "https://localhost:8080/"
        },
        "id": "wOPiKLedNwFL",
        "outputId": "bcda992b-a6f2-4a12-925f-c2751c1774f1"
      },
      "execution_count": null,
      "outputs": [
        {
          "output_type": "stream",
          "name": "stdout",
          "text": [
            "Enter an int number: \n",
            "6\n",
            "I don't recognize that number\n"
          ]
        }
      ]
    },
    {
      "cell_type": "markdown",
      "source": [
        "**Working with IF in one line**"
      ],
      "metadata": {
        "id": "iarVI847OTeS"
      }
    },
    {
      "cell_type": "code",
      "source": [
        "var = 2\n",
        "result = \"Var is greater than 2\" if var > 2 else \"Var is not greater than 2\"\n",
        "print(result)"
      ],
      "metadata": {
        "colab": {
          "base_uri": "https://localhost:8080/"
        },
        "id": "3hRoqKLFOk0E",
        "outputId": "3ca71087-3c14-4f6f-d41e-db6c319a9e2c"
      },
      "execution_count": null,
      "outputs": [
        {
          "output_type": "stream",
          "name": "stdout",
          "text": [
            "Var is not greater than 2\n"
          ]
        }
      ]
    },
    {
      "cell_type": "code",
      "source": [
        "print(\"Enter an int number:\")\n",
        "var = int(input())\n",
        "result = \"Var is greater than 2\" if var > 2 else \"Var is not greater than 2\"\n",
        "print(result)"
      ],
      "metadata": {
        "colab": {
          "base_uri": "https://localhost:8080/"
        },
        "id": "8jfvE2QmO9lr",
        "outputId": "a7ec9f16-6866-4b26-9801-1c4f3f60057e"
      },
      "execution_count": null,
      "outputs": [
        {
          "output_type": "stream",
          "name": "stdout",
          "text": [
            "Enter an int number:\n",
            "4\n",
            "Var is greater than 2\n"
          ]
        }
      ]
    },
    {
      "cell_type": "markdown",
      "source": [
        "## IF Structure: Activities"
      ],
      "metadata": {
        "id": "eL0tijRvPZHB"
      }
    },
    {
      "cell_type": "markdown",
      "source": [
        "**Activity 01**"
      ],
      "metadata": {
        "id": "SKAEmp6CPq2Z"
      }
    },
    {
      "cell_type": "code",
      "source": [
        "print(\"Enter your balance: \")\n",
        "revenue = float(input())\n",
        "print(\"Enter your debt: \")\n",
        "debt = float(input())\n",
        "\n",
        "balance = revenue - debt\n",
        "\n",
        "if balance < 0:\n",
        "  print(\"You have a \\'negative'\\ balance\")\n",
        "else:\n",
        "  print(\"you have a \\'positive\\' balance\")"
      ],
      "metadata": {
        "colab": {
          "base_uri": "https://localhost:8080/"
        },
        "id": "6m8M5n6TPuF9",
        "outputId": "e09b07ad-9acd-4ae2-847c-8c18e4ddf852"
      },
      "execution_count": null,
      "outputs": [
        {
          "output_type": "stream",
          "name": "stdout",
          "text": [
            "Enter your balance: \n",
            "2400\n",
            "Enter your debt: \n",
            "1500\n",
            "you have a 'positive' balance\n"
          ]
        }
      ]
    },
    {
      "cell_type": "markdown",
      "source": [
        "**Activity 02**"
      ],
      "metadata": {
        "id": "f6yt5fBmQpCR"
      }
    },
    {
      "cell_type": "code",
      "source": [
        "code = '105.066.227-03'\n",
        "password = '123654'\n",
        "\n",
        "while passw != '123654':\n",
        "  print(\"Enter the password to see the code: \")\n",
        "  passw = str(input())\n",
        "  if passw == '123654':\n",
        "    print(\"The code is: \", code)\n",
        "  else:\n",
        "    print(\"Incorrect code!!\")\n",
        "    print(\"Try again.\")\n"
      ],
      "metadata": {
        "colab": {
          "base_uri": "https://localhost:8080/"
        },
        "id": "Izj28FaiQr73",
        "outputId": "188d7791-f406-4731-c04c-651bfe47c4f2"
      },
      "execution_count": null,
      "outputs": [
        {
          "output_type": "stream",
          "name": "stdout",
          "text": [
            "Enter the password to see the code: \n",
            "123\n",
            "Incorrect code!!\n",
            "Try again.\n",
            "Enter the password to see the code: \n",
            "125\n",
            "Incorrect code!!\n",
            "Try again.\n",
            "Enter the password to see the code: \n",
            "123654\n",
            "The code is:  105.066.227-03\n"
          ]
        }
      ]
    },
    {
      "cell_type": "markdown",
      "source": [
        "**Activity 03**"
      ],
      "metadata": {
        "id": "zgpoAFDyT55r"
      }
    },
    {
      "cell_type": "code",
      "source": [
        "print(\"Enter your age: \")\n",
        "age = int(input())\n",
        "\n",
        "if age <= 3:\n",
        "  print(\"You are a baby\")\n",
        "elif age <= 13:\n",
        "  print(\"You are a child\")\n",
        "elif age <= 18:\n",
        "  print(\"You are a teenager\")\n",
        "elif age <= 65:\n",
        "  print(\"You are an adult\")\n",
        "else:\n",
        "  print(\"You are an elderly person\")"
      ],
      "metadata": {
        "colab": {
          "base_uri": "https://localhost:8080/"
        },
        "id": "xsFbHONQT8GM",
        "outputId": "8d59fecc-eea6-4b3d-fa0d-e64deb3626ad"
      },
      "execution_count": null,
      "outputs": [
        {
          "output_type": "stream",
          "name": "stdout",
          "text": [
            "Enter your age: \n",
            "78\n",
            "You are an elderly person\n"
          ]
        }
      ]
    },
    {
      "cell_type": "markdown",
      "source": [
        "**Activity 04**"
      ],
      "metadata": {
        "id": "BV0c3_neU-Gw"
      }
    },
    {
      "cell_type": "code",
      "source": [
        "print(\"Enter the first number: \")\n",
        "num1 = float(input())\n",
        "\n",
        "print(\"Enter the second number:\")\n",
        "num2 = float(input())\n",
        "\n",
        "print(\"Enter the operation:\")\n",
        "print(\"1 for Addition\")\n",
        "print(\"2 for Subtraction\")\n",
        "print(\"3 for Multiplication\")\n",
        "print(\"4 for Division\")\n",
        "op = int(input())\n",
        "\n",
        "if op == 1:\n",
        "  print(\"The addition for %.2f and %.2f is: %.2f\" %(num1, num2, (num1+num2)))\n",
        "elif op == 2:\n",
        "  print(\"The subtraction for %.2f and %.2f is: %.2f\" %(num1, num2, (num1-num2)))\n",
        "elif op == 3:\n",
        "  print(\"The Multiplication for %.2f and %.2f is: %.2f\" %(num1, num2, (num1*num2)))\n",
        "elif op == 4:\n",
        "  print(\"The Division for %.2f and %.2f is: %.2f\" %(num1, num2, (num1/num2)))"
      ],
      "metadata": {
        "colab": {
          "base_uri": "https://localhost:8080/"
        },
        "id": "XfYpzXhsVA5w",
        "outputId": "204c4bd9-a0b0-45b1-bf28-dd85b4290e39"
      },
      "execution_count": null,
      "outputs": [
        {
          "output_type": "stream",
          "name": "stdout",
          "text": [
            "Enter the first number: \n",
            "15\n",
            "Enter the second number:\n",
            "21\n",
            "Enter the operation:\n",
            "1 for Addition\n",
            "2 for Subtraction\n",
            "3 for Multiplication\n",
            "4 for Division\n",
            "3\n",
            "The Multiplication for 15.00 and 21.00 is: 315.00\n"
          ]
        }
      ]
    },
    {
      "cell_type": "markdown",
      "source": [
        "# While Structure"
      ],
      "metadata": {
        "id": "ubJX5CTZ9M4I"
      }
    },
    {
      "cell_type": "code",
      "source": [
        "# Exemple 01\n",
        "num = 10\n",
        "while num > 0:\n",
        "  print(\"The num is %d\" %(num))\n",
        "  num -= 1"
      ],
      "metadata": {
        "colab": {
          "base_uri": "https://localhost:8080/"
        },
        "id": "xJwf2tmz9Soq",
        "outputId": "0a2f2157-971b-4602-8128-924a303dabfb"
      },
      "execution_count": 1,
      "outputs": [
        {
          "output_type": "stream",
          "name": "stdout",
          "text": [
            "The num is 10\n",
            "The num is 9\n",
            "The num is 8\n",
            "The num is 7\n",
            "The num is 6\n",
            "The num is 5\n",
            "The num is 4\n",
            "The num is 3\n",
            "The num is 2\n",
            "The num is 1\n"
          ]
        }
      ]
    },
    {
      "cell_type": "code",
      "source": [
        "balance = 5000.00\n",
        "while balance >= 0:\n",
        "  print(\"Your balance is US$%.2f\" %(balance))\n",
        "  print(\"Enter a debt value: \")\n",
        "  debt = float(input())\n",
        "  balance = balance - debt\n",
        "  print(\"You have a new balance: US$%.2f\" %(balance))\n",
        "print(\"You have a negative balance: US$%.2f\" %(balance))"
      ],
      "metadata": {
        "colab": {
          "base_uri": "https://localhost:8080/"
        },
        "id": "QudVz3Xo_HwK",
        "outputId": "990287b1-8b89-43d5-f928-a9af257418e3"
      },
      "execution_count": 2,
      "outputs": [
        {
          "output_type": "stream",
          "name": "stdout",
          "text": [
            "Your balance is US$5000.00\n",
            "Enter a debt value: \n",
            "100\n",
            "You have a new balance: US$4900.00\n",
            "Your balance is US$4900.00\n",
            "Enter a debt value: \n",
            "2500\n",
            "You have a new balance: US$2400.00\n",
            "Your balance is US$2400.00\n",
            "Enter a debt value: \n",
            "235\n",
            "You have a new balance: US$2165.00\n",
            "Your balance is US$2165.00\n",
            "Enter a debt value: \n",
            "1563\n",
            "You have a new balance: US$602.00\n",
            "Your balance is US$602.00\n",
            "Enter a debt value: \n",
            "635\n",
            "You have a new balance: US$-33.00\n",
            "You have a negative balance: US$-33.00\n"
          ]
        }
      ]
    },
    {
      "cell_type": "code",
      "source": [
        "n = 5\n",
        "sum = 0\n",
        "while n > 0 and n <= 5:\n",
        "  for i in range(1,6):\n",
        "    num = float(input(\"Enter the number %d: \" %(i)))\n",
        "    n -= 1\n",
        "    sum = sum + num\n",
        "print(\"The sum of the numbers is %.2f\" %(sum))"
      ],
      "metadata": {
        "colab": {
          "base_uri": "https://localhost:8080/"
        },
        "id": "IVJ30PP9BzWt",
        "outputId": "a8254a81-ee96-4f99-df65-573a0bb934c2"
      },
      "execution_count": 5,
      "outputs": [
        {
          "output_type": "stream",
          "name": "stdout",
          "text": [
            "Enter the number 1: 10\n",
            "Enter the number 2: 20\n",
            "Enter the number 3: 20\n",
            "Enter the number 4: 25\n",
            "Enter the number 5: 25\n",
            "The sum of the numbers is 100.00\n"
          ]
        }
      ]
    },
    {
      "cell_type": "markdown",
      "source": [
        "## While Structure: Activities"
      ],
      "metadata": {
        "id": "IN1JODurTQ_l"
      }
    },
    {
      "cell_type": "markdown",
      "source": [
        "**Activity 01**"
      ],
      "metadata": {
        "id": "nnsSHdfkTVxf"
      }
    },
    {
      "cell_type": "code",
      "source": [
        "sum = 0\n",
        "num = 0\n",
        "while num <= 5:\n",
        "  print(\"Enter the number for mean: \")\n",
        "  var = float(input())\n",
        "  sum = sum + var\n",
        "  num += 1\n",
        "result = sum/num\n",
        "print(\"The mean is %.2f.\" %(result))\n"
      ],
      "metadata": {
        "colab": {
          "base_uri": "https://localhost:8080/"
        },
        "id": "0gnu7m1MTUm_",
        "outputId": "3ff78ce5-ea42-4479-e0a2-569f91b75781"
      },
      "execution_count": 12,
      "outputs": [
        {
          "output_type": "stream",
          "name": "stdout",
          "text": [
            "Enter the number for mean: \n",
            "10\n",
            "Enter the number for mean: \n",
            "12.5\n",
            "Enter the number for mean: \n",
            "15\n",
            "Enter the number for mean: \n",
            "18\n",
            "Enter the number for mean: \n",
            "4\n",
            "Enter the number for mean: \n",
            "9\n",
            "The mean is 11.42.\n"
          ]
        }
      ]
    },
    {
      "cell_type": "markdown",
      "source": [
        "**Activity 02**"
      ],
      "metadata": {
        "id": "4_nvhRd0TcwZ"
      }
    },
    {
      "cell_type": "code",
      "source": [
        "sum = 0\n",
        "num = 0\n",
        "while num <= 5:\n",
        "  print(\"Enter the number for sum: \")\n",
        "  var = float(input())\n",
        "  if var < 0:\n",
        "    num += 1\n",
        "    continue\n",
        "  else:\n",
        "    sum = sum + var\n",
        "    num += 1\n",
        "print(\"The sum is %.2f.\" %(sum))"
      ],
      "metadata": {
        "colab": {
          "base_uri": "https://localhost:8080/"
        },
        "id": "UQTaXleiTgFi",
        "outputId": "48258597-e0c0-4ab9-c1ae-0cd7a13c1138"
      },
      "execution_count": 15,
      "outputs": [
        {
          "output_type": "stream",
          "name": "stdout",
          "text": [
            "Enter the number for mean: \n",
            "10\n",
            "Enter the number for mean: \n",
            "10\n",
            "Enter the number for mean: \n",
            "-1\n",
            "Enter the number for mean: \n",
            "10\n",
            "Enter the number for mean: \n",
            "10\n",
            "Enter the number for mean: \n",
            "10\n",
            "The sum is 50.00.\n"
          ]
        }
      ]
    },
    {
      "cell_type": "markdown",
      "source": [
        "**Activity 03**"
      ],
      "metadata": {
        "id": "oXwyZgwOYooQ"
      }
    },
    {
      "cell_type": "code",
      "source": [
        "sum = 0\n",
        "num = 0\n",
        "print(\"How many number do you want to sum?\")\n",
        "num2 = int(input())\n",
        "print(\"Let's sum %d numbers\" %(num2))\n",
        "while num < num2:\n",
        "  print(\"Enter the number for sum: \")\n",
        "  var = float(input())\n",
        "  sum = sum + var\n",
        "  num += 1\n",
        "print(\"The sum is %.2f.\" %(sum))"
      ],
      "metadata": {
        "colab": {
          "base_uri": "https://localhost:8080/"
        },
        "id": "YgL-XxaMYo5P",
        "outputId": "88e2c6ed-6528-46e6-cd17-91b77c8bda12"
      },
      "execution_count": 17,
      "outputs": [
        {
          "output_type": "stream",
          "name": "stdout",
          "text": [
            "How many number do you want to sum?\n",
            "3\n",
            "Let's sum 3 numbers\n",
            "Enter the number for sum: \n",
            "10\n",
            "Enter the number for sum: \n",
            "10\n",
            "Enter the number for sum: \n",
            "10\n",
            "The sum is 30.00.\n"
          ]
        }
      ]
    },
    {
      "cell_type": "code",
      "source": [
        "sum = 0\n",
        "num = 0\n",
        "num2 = 0\n",
        "while num2 < 2:\n",
        "  print(\"How many number do you want to sum? (>2)\")\n",
        "  num2 = int(input())\n",
        "print(\"Let's sum %d numbers\" %(num2))\n",
        "while num < num2:\n",
        "  print(\"Enter the number for sum: \")\n",
        "  var = float(input())\n",
        "  sum = sum + var\n",
        "  num += 1\n",
        "print(\"The sum is %.2f.\" %(sum))"
      ],
      "metadata": {
        "colab": {
          "base_uri": "https://localhost:8080/"
        },
        "id": "3pQRpRltZfRj",
        "outputId": "545b1962-b8c5-428f-da32-09b874e0bcfd"
      },
      "execution_count": 20,
      "outputs": [
        {
          "output_type": "stream",
          "name": "stdout",
          "text": [
            "How many number do you want to sum? (>2)\n",
            "0\n",
            "How many number do you want to sum? (>2)\n",
            "0\n",
            "How many number do you want to sum? (>2)\n",
            "1\n",
            "How many number do you want to sum? (>2)\n",
            "1\n",
            "How many number do you want to sum? (>2)\n",
            "3\n",
            "Let's sum 3 numbers\n",
            "Enter the number for sum: \n",
            "10\n",
            "Enter the number for sum: \n",
            "10\n",
            "Enter the number for sum: \n",
            "10\n",
            "The sum is 30.00.\n"
          ]
        }
      ]
    },
    {
      "cell_type": "markdown",
      "source": [
        "**Activity 04**"
      ],
      "metadata": {
        "id": "2YfLmsQEaHVX"
      }
    },
    {
      "cell_type": "code",
      "source": [
        "num = 2\n",
        "while num <= 10:\n",
        "  result = num % 2\n",
        "  if result == 0:\n",
        "    print(\"The number %d is even.\" %(num))\n",
        "    num += 1\n",
        "  else:\n",
        "    print(\"The number %d is odd.\" %(num))\n",
        "    num += 1\n",
        "\n",
        "\n"
      ],
      "metadata": {
        "colab": {
          "base_uri": "https://localhost:8080/"
        },
        "id": "TRycAIoEaJhc",
        "outputId": "58ef6d37-5c89-4c8e-807f-17942e98fa6f"
      },
      "execution_count": 23,
      "outputs": [
        {
          "output_type": "stream",
          "name": "stdout",
          "text": [
            "The number 2 is even.\n",
            "The number 3 is odd.\n",
            "The number 4 is even.\n",
            "The number 5 is odd.\n",
            "The number 6 is even.\n",
            "The number 7 is odd.\n",
            "The number 8 is even.\n",
            "The number 9 is odd.\n",
            "The number 10 is even.\n"
          ]
        }
      ]
    },
    {
      "cell_type": "markdown",
      "source": [
        "**Activity 05**"
      ],
      "metadata": {
        "id": "ySvc_L0JbYkQ"
      }
    },
    {
      "cell_type": "code",
      "source": [
        "var1 = str(input(\"Enter a little text: \"))\n",
        "var2 = len(var1)\n",
        "num = 0\n",
        "num2 = 0\n",
        "while num < var2:\n",
        "  if var1[num] == \" \":\n",
        "    num2 += 1\n",
        "    num += 1\n",
        "  else:\n",
        "    num += 1\n",
        "\n",
        "print(\"The number of spaces in the text is %d.\" %(num2))\n"
      ],
      "metadata": {
        "colab": {
          "base_uri": "https://localhost:8080/"
        },
        "id": "VyplKB4-amk5",
        "outputId": "2b76a651-2caa-44bf-e0a8-bea13fb12a28"
      },
      "execution_count": 26,
      "outputs": [
        {
          "output_type": "stream",
          "name": "stdout",
          "text": [
            "Enter a little text: I'm going home!\n",
            "The number of spaces in the text is 2.\n"
          ]
        }
      ]
    },
    {
      "cell_type": "markdown",
      "source": [
        "# Break and Continue"
      ],
      "metadata": {
        "id": "8-3D9GfBO5m-"
      }
    },
    {
      "cell_type": "code",
      "source": [
        "num = 5\n",
        "while num > 0:\n",
        "  if num == 15:\n",
        "    break\n",
        "  print(\"The number is %d.\" %(num))\n",
        "  num += 1\n",
        "print(\"The loop has finished!\")"
      ],
      "metadata": {
        "colab": {
          "base_uri": "https://localhost:8080/"
        },
        "id": "PUFkCwBiO9vY",
        "outputId": "e670d762-1b28-4f19-f3f8-8c84b157e77b"
      },
      "execution_count": 6,
      "outputs": [
        {
          "output_type": "stream",
          "name": "stdout",
          "text": [
            "The number is 5.\n",
            "The number is 6.\n",
            "The number is 7.\n",
            "The number is 8.\n",
            "The number is 9.\n",
            "The number is 10.\n",
            "The number is 11.\n",
            "The number is 12.\n",
            "The number is 13.\n",
            "The number is 14.\n",
            "The loop has finished!\n"
          ]
        }
      ]
    },
    {
      "cell_type": "code",
      "source": [
        "num = 5\n",
        "while num > 0 and num <= 15:\n",
        "  if num == 12:\n",
        "    num += 1\n",
        "    continue\n",
        "  print(\"The number is %d.\" %(num))\n",
        "  num += 1\n",
        "print(\"The loop has finished!\")"
      ],
      "metadata": {
        "colab": {
          "base_uri": "https://localhost:8080/"
        },
        "id": "Nf_D9BNgSAh4",
        "outputId": "a31aa62b-1e3e-4c4f-f3db-bffcd1071581"
      },
      "execution_count": 11,
      "outputs": [
        {
          "output_type": "stream",
          "name": "stdout",
          "text": [
            "The number is 5.\n",
            "The number is 6.\n",
            "The number is 7.\n",
            "The number is 8.\n",
            "The number is 9.\n",
            "The number is 10.\n",
            "The number is 11.\n",
            "The number is 13.\n",
            "The number is 14.\n",
            "The number is 15.\n",
            "The loop has finished!\n"
          ]
        }
      ]
    },
    {
      "cell_type": "markdown",
      "source": [
        "# FOR Structure"
      ],
      "metadata": {
        "id": "83SiybJ27EDn"
      }
    },
    {
      "cell_type": "code",
      "source": [
        "for x in range(10):\n",
        "  print(x)"
      ],
      "metadata": {
        "colab": {
          "base_uri": "https://localhost:8080/"
        },
        "id": "byRMRmDC7F5E",
        "outputId": "2b18ccb3-397e-4716-cccd-b72c4653d02d"
      },
      "execution_count": 1,
      "outputs": [
        {
          "output_type": "stream",
          "name": "stdout",
          "text": [
            "0\n",
            "1\n",
            "2\n",
            "3\n",
            "4\n",
            "5\n",
            "6\n",
            "7\n",
            "8\n",
            "9\n"
          ]
        }
      ]
    },
    {
      "cell_type": "code",
      "source": [
        "# On this exemple I include number 10\n",
        "for x in range(11):\n",
        "  print(x)"
      ],
      "metadata": {
        "colab": {
          "base_uri": "https://localhost:8080/"
        },
        "id": "K5jHY8Gx8i9N",
        "outputId": "35bb9341-0dfb-4727-c8c8-e3282efe01f0"
      },
      "execution_count": 2,
      "outputs": [
        {
          "output_type": "stream",
          "name": "stdout",
          "text": [
            "0\n",
            "1\n",
            "2\n",
            "3\n",
            "4\n",
            "5\n",
            "6\n",
            "7\n",
            "8\n",
            "9\n",
            "10\n"
          ]
        }
      ]
    },
    {
      "cell_type": "code",
      "source": [
        "# Here I print each number between 0 and 11 (11 not include) skipping each 2 numbers\n",
        "for x in range(0,11,2):\n",
        "  print(x)"
      ],
      "metadata": {
        "colab": {
          "base_uri": "https://localhost:8080/"
        },
        "id": "k9nh_eiy8uQ1",
        "outputId": "ea87755b-8ee1-4732-dc35-58964034b7c4"
      },
      "execution_count": 6,
      "outputs": [
        {
          "output_type": "stream",
          "name": "stdout",
          "text": [
            "0\n",
            "2\n",
            "4\n",
            "6\n",
            "8\n",
            "10\n"
          ]
        }
      ]
    },
    {
      "cell_type": "code",
      "source": [
        "var = \"Hi, my name is Victor\"\n",
        "for x in var:\n",
        "  print(x)"
      ],
      "metadata": {
        "colab": {
          "base_uri": "https://localhost:8080/"
        },
        "id": "9Pc1wiUXBspG",
        "outputId": "90533218-3ec5-4d94-e377-806daad63709"
      },
      "execution_count": 7,
      "outputs": [
        {
          "output_type": "stream",
          "name": "stdout",
          "text": [
            "H\n",
            "i\n",
            ",\n",
            " \n",
            "m\n",
            "y\n",
            " \n",
            "n\n",
            "a\n",
            "m\n",
            "e\n",
            " \n",
            "i\n",
            "s\n",
            " \n",
            "V\n",
            "i\n",
            "c\n",
            "t\n",
            "o\n",
            "r\n"
          ]
        }
      ]
    },
    {
      "cell_type": "code",
      "source": [
        "var = \"Hi, my name is Victor\"\n",
        "number = 0\n",
        "letter = 'm'\n",
        "for x in var.lower():\n",
        "  if x == letter:\n",
        "    number += 1\n",
        "  else:\n",
        "    continue\n",
        "print(\"The letter \\'%s\\' appers %d times.\" %(letter,number))"
      ],
      "metadata": {
        "colab": {
          "base_uri": "https://localhost:8080/"
        },
        "id": "HPwUXv_IB285",
        "outputId": "054fd6da-d3c9-49d9-b0d9-54e8ac2131ca"
      },
      "execution_count": 15,
      "outputs": [
        {
          "output_type": "stream",
          "name": "stdout",
          "text": [
            "The letter 'm' appers 2 times.\n"
          ]
        }
      ]
    },
    {
      "cell_type": "code",
      "source": [
        "print(\"Enter a text: \")\n",
        "var = str(input())\n",
        "print(\"Enter the letter you wanna count: \")\n",
        "letter = str(input()).lower()\n",
        "number = 0\n",
        "for x in var.lower():\n",
        "  if x == letter:\n",
        "    number += 1\n",
        "  else:\n",
        "    continue\n",
        "print(\"The letter \\'%s\\' appers %d times.\" %(letter,number))"
      ],
      "metadata": {
        "colab": {
          "base_uri": "https://localhost:8080/"
        },
        "id": "xzuj9gP3C0-O",
        "outputId": "f830c189-17aa-414c-e9ca-7ecb267efb1d"
      },
      "execution_count": 20,
      "outputs": [
        {
          "output_type": "stream",
          "name": "stdout",
          "text": [
            "Enter a text: \n",
            "I am here with my brother\n",
            "Enter the letter you wanna count: \n",
            "w\n",
            "The letter 'w' appers 1 times.\n"
          ]
        }
      ]
    },
    {
      "cell_type": "markdown",
      "source": [
        "FOR Structure: Activities"
      ],
      "metadata": {
        "id": "mlpDvVwpDjZJ"
      }
    },
    {
      "cell_type": "markdown",
      "source": [
        "**Activity 01**"
      ],
      "metadata": {
        "id": "K59eqfAODnpI"
      }
    },
    {
      "cell_type": "code",
      "source": [
        "print(\"Enter a text: \")\n",
        "var1 = str(input()).lower()\n",
        "number = 0\n",
        "for x in  var1:\n",
        "  if x == \" \":\n",
        "    continue\n",
        "  else:\n",
        "    number += 1\n",
        "print(\"The text has %d characters\" %(number))\n"
      ],
      "metadata": {
        "colab": {
          "base_uri": "https://localhost:8080/"
        },
        "id": "KGujAYTCDml8",
        "outputId": "76f8e6d9-d1f2-4a51-8b99-80ac31599941"
      },
      "execution_count": 22,
      "outputs": [
        {
          "output_type": "stream",
          "name": "stdout",
          "text": [
            "Enter a text: \n",
            "Who am I?\n",
            "The text has 7 characters\n"
          ]
        }
      ]
    },
    {
      "cell_type": "markdown",
      "source": [
        "**Activity 02**"
      ],
      "metadata": {
        "id": "eZrQvI2QDp5R"
      }
    },
    {
      "cell_type": "code",
      "source": [
        "var1 = 5\n",
        "a = 1\n",
        "for x in range(1,var1+1):\n",
        "  a = a * x\n",
        "print(\"The factorial of %d is %d.\" %(var1, a))\n"
      ],
      "metadata": {
        "colab": {
          "base_uri": "https://localhost:8080/"
        },
        "id": "tE7_lWwKDr7C",
        "outputId": "826c5eec-14ad-46c2-ec4f-3d410fbccf43"
      },
      "execution_count": 24,
      "outputs": [
        {
          "output_type": "stream",
          "name": "stdout",
          "text": [
            "The factorial of 5 is 120.\n"
          ]
        }
      ]
    },
    {
      "cell_type": "code",
      "source": [
        "print(\"Enter a number: \")\n",
        "var1 = int(input())\n",
        "a = 1\n",
        "for x in range(1,var1+1):\n",
        "  a = a * x\n",
        "print(\"The factorial of %d is %d.\" %(var1, a))"
      ],
      "metadata": {
        "colab": {
          "base_uri": "https://localhost:8080/"
        },
        "id": "_9_ieqo8M--r",
        "outputId": "8de73b98-1ab4-4d9c-9c55-9a765778d017"
      },
      "execution_count": 28,
      "outputs": [
        {
          "output_type": "stream",
          "name": "stdout",
          "text": [
            "Enter a number: \n",
            "6\n",
            "The factorial of 6 is 720.\n"
          ]
        }
      ]
    },
    {
      "cell_type": "markdown",
      "source": [
        "**Activity 03**"
      ],
      "metadata": {
        "id": "U8WaIV4mDsI8"
      }
    },
    {
      "cell_type": "code",
      "source": [
        "print(\"Enter the number of texts: \")\n",
        "num_text = int(input())\n",
        "num = 0\n",
        "text1 = \"\"\n",
        "\n",
        "while num <= num_text-1:\n",
        "  print(\"Enter the text number %d: \" %(num))\n",
        "  text2 = str(input())\n",
        "  text1 = text1 + \" \" + text2\n",
        "  num += 1\n",
        "\n",
        "print(text1)\n"
      ],
      "metadata": {
        "colab": {
          "base_uri": "https://localhost:8080/"
        },
        "id": "4xGhLDAwDt8i",
        "outputId": "4e004b93-af23-434b-fe39-a59ad65bf5cc"
      },
      "execution_count": 34,
      "outputs": [
        {
          "output_type": "stream",
          "name": "stdout",
          "text": [
            "Enter the number of texts: \n",
            "3\n",
            "Enter the text number 0: \n",
            "I\n",
            "Enter the text number 1: \n",
            "am\n",
            "Enter the text number 2: \n",
            "here\n",
            " I am here\n"
          ]
        }
      ]
    },
    {
      "cell_type": "code",
      "source": [
        "print(\"Enter the number of texts: \")\n",
        "num_text = int(input())\n",
        "num = 0\n",
        "text1 = \"\"\n",
        "\n",
        "for x in range (num_text):\n",
        "  print(\"Enter the text number %d: \" %(x))\n",
        "  text2 = str(input())\n",
        "  text1 = text1 + \" \" + text2\n",
        "  num += x\n",
        "\n",
        "print(text1)"
      ],
      "metadata": {
        "colab": {
          "base_uri": "https://localhost:8080/"
        },
        "id": "eQa91FAUOsuQ",
        "outputId": "1d62f3bf-3748-4218-a783-ccd4f0b963ab"
      },
      "execution_count": 35,
      "outputs": [
        {
          "output_type": "stream",
          "name": "stdout",
          "text": [
            "Enter the number of texts: \n",
            "3\n",
            "Enter the text number 0: \n",
            "I\n",
            "Enter the text number 1: \n",
            "am\n",
            "Enter the text number 2: \n",
            "here\n",
            " I am here\n"
          ]
        }
      ]
    },
    {
      "cell_type": "markdown",
      "source": [
        "**Activity 04**"
      ],
      "metadata": {
        "id": "kur36YBgDuSQ"
      }
    },
    {
      "cell_type": "code",
      "source": [
        "print(\"Which multiplication table do you wanna see? \")\n",
        "var1 = int(input())\n",
        "\n",
        "for x in range(1, 11):\n",
        "  var2 = \"%d / %d = %.2f\" %(x, var1, (x / var1))\n",
        "  print(var2)\n",
        "\n"
      ],
      "metadata": {
        "colab": {
          "base_uri": "https://localhost:8080/"
        },
        "id": "5S7SJ_nnDwOg",
        "outputId": "43d11189-ed6c-480a-c6d2-3ebf2695925a"
      },
      "execution_count": 38,
      "outputs": [
        {
          "output_type": "stream",
          "name": "stdout",
          "text": [
            "Which multiplication table do you wanna see? \n",
            "9\n",
            "1 / 9 = 0.11\n",
            "2 / 9 = 0.22\n",
            "3 / 9 = 0.33\n",
            "4 / 9 = 0.44\n",
            "5 / 9 = 0.56\n",
            "6 / 9 = 0.67\n",
            "7 / 9 = 0.78\n",
            "8 / 9 = 0.89\n",
            "9 / 9 = 1.00\n",
            "10 / 9 = 1.11\n"
          ]
        }
      ]
    },
    {
      "cell_type": "markdown",
      "source": [
        "**Activity 05**"
      ],
      "metadata": {
        "id": "8pgpl-5cDwcJ"
      }
    },
    {
      "cell_type": "code",
      "source": [
        "for i in range(3, 31):\n",
        "  if i % 2 == 0:\n",
        "    continue\n",
        "\n",
        "  for j in range(3, 31):\n",
        "    if i != j or i % j > 0:\n",
        "      continue\n",
        "    else:\n",
        "      print(\"The number %d is prime.\" %(i))\n",
        "\n"
      ],
      "metadata": {
        "colab": {
          "base_uri": "https://localhost:8080/"
        },
        "id": "4F214RyMDysE",
        "outputId": "7d99d492-bc45-496e-cff7-17063396a515"
      },
      "execution_count": 45,
      "outputs": [
        {
          "output_type": "stream",
          "name": "stdout",
          "text": [
            "The number 3 is prime.\n",
            "The number 5 is prime.\n",
            "The number 7 is prime.\n",
            "The number 9 is prime.\n",
            "The number 11 is prime.\n",
            "The number 13 is prime.\n",
            "The number 15 is prime.\n",
            "The number 17 is prime.\n",
            "The number 19 is prime.\n",
            "The number 21 is prime.\n",
            "The number 23 is prime.\n",
            "The number 25 is prime.\n",
            "The number 27 is prime.\n",
            "The number 29 is prime.\n"
          ]
        }
      ]
    },
    {
      "cell_type": "code",
      "source": [
        "#Teacher solution\n",
        "for numero in range(3,31):\n",
        "  e_primo = True\n",
        "\n",
        "  for num_teste in range(2, numero):\n",
        "    if (numero % num_teste == 0):\n",
        "      e_primo = False\n",
        "      break\n",
        "\n",
        "  if (e_primo):\n",
        "    print(\"O número %d é primo.\" %(numero))\n",
        "  else:\n",
        "    print(\"O número %d não é primo.\" %(numero))"
      ],
      "metadata": {
        "colab": {
          "base_uri": "https://localhost:8080/"
        },
        "id": "NJ6WzQfxsAjo",
        "outputId": "0adefcf5-9d09-4541-b32b-9922fc14ac5b"
      },
      "execution_count": 47,
      "outputs": [
        {
          "output_type": "stream",
          "name": "stdout",
          "text": [
            "O número 3 é primo.\n",
            "O número 4 não é primo.\n",
            "O número 5 é primo.\n",
            "O número 6 não é primo.\n",
            "O número 7 é primo.\n",
            "O número 8 não é primo.\n",
            "O número 9 não é primo.\n",
            "O número 10 não é primo.\n",
            "O número 11 é primo.\n",
            "O número 12 não é primo.\n",
            "O número 13 é primo.\n",
            "O número 14 não é primo.\n",
            "O número 15 não é primo.\n",
            "O número 16 não é primo.\n",
            "O número 17 é primo.\n",
            "O número 18 não é primo.\n",
            "O número 19 é primo.\n",
            "O número 20 não é primo.\n",
            "O número 21 não é primo.\n",
            "O número 22 não é primo.\n",
            "O número 23 é primo.\n",
            "O número 24 não é primo.\n",
            "O número 25 não é primo.\n",
            "O número 26 não é primo.\n",
            "O número 27 não é primo.\n",
            "O número 28 não é primo.\n",
            "O número 29 é primo.\n",
            "O número 30 não é primo.\n"
          ]
        }
      ]
    }
  ]
}